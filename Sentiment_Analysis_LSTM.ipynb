{
 "cells": [
  {
   "cell_type": "code",
   "execution_count": 1,
   "metadata": {},
   "outputs": [
    {
     "name": "stderr",
     "output_type": "stream",
     "text": [
      "c:\\python\\python37\\lib\\site-packages\\sklearn\\externals\\joblib\\__init__.py:15: DeprecationWarning: sklearn.externals.joblib is deprecated in 0.21 and will be removed in 0.23. Please import this functionality directly from joblib, which can be installed with: pip install joblib. If this warning is raised when loading pickled models, you may need to re-serialize those models with scikit-learn 0.21+.\n",
      "  warnings.warn(msg, category=DeprecationWarning)\n"
     ]
    }
   ],
   "source": [
    "import time\n",
    "import os\n",
    "import sys\n",
    "import pickle\n",
    "import math\n",
    "\n",
    "import re\n",
    "\n",
    "import pandas as pd\n",
    "import numpy as np\n",
    "import matplotlib.pyplot as plt\n",
    "import seaborn as sns\n",
    "\n",
    "import nltk\n",
    "from nltk.corpus import stopwords\n",
    "stop = stopwords.words('english')\n",
    "\n",
    "from nltk.tokenize import word_tokenize\n",
    "from gensim.models.word2vec import Word2Vec\n",
    "\n",
    "from sklearn.preprocessing import LabelEncoder\n",
    "from sklearn.model_selection import train_test_split\n",
    "from sklearn.utils import shuffle\n",
    "from sklearn.metrics import classification_report , accuracy_score , confusion_matrix , precision_score , f1_score\n",
    "\n",
    "from skopt.space import Real, Categorical, Integer\n",
    "from skopt import forest_minimize, gbrt_minimize, gp_minimize\n",
    "from skopt.callbacks import DeltaYStopper\n",
    "from skopt.utils import use_named_args\n",
    "\n",
    "import torch\n",
    "import torch.nn as nn\n",
    "import torch.nn.functional as F\n",
    "import torchvision.datasets as Dataset\n",
    "import torch.autograd as autograd\n",
    "from torch.utils.data import Dataset, DataLoader\n",
    "import torchvision\n",
    "\n",
    "import xgboost as xgb\n",
    "\n",
    "%matplotlib inline"
   ]
  },
  {
   "cell_type": "code",
   "execution_count": 2,
   "metadata": {},
   "outputs": [],
   "source": [
    "import linecache\n",
    "import pprint\n",
    "\n",
    "def PrintException():\n",
    "    exc_type, exc_obj, tb = sys.exc_info()\n",
    "    f = tb.tb_frame\n",
    "    lineno = tb.tb_lineno\n",
    "    filename = f.f_code.co_filename\n",
    "    linecache.checkcache(filename)\n",
    "    line = linecache.getline(filename, lineno, f.f_globals)\n",
    "    print ('EXCEPTION IN ({}, LINE {} \"{}\"): {}'.format(filename, lineno, line.strip(), exc_obj))\n",
    "    return"
   ]
  },
  {
   "cell_type": "code",
   "execution_count": 3,
   "metadata": {},
   "outputs": [],
   "source": [
    "def my_classification_report(y_actual , y_predicted):\n",
    "    print(classification_report(y_actual, y_pred))\n",
    "    acc = accuracy_score(y_actual , y_predicted)\n",
    "    print('accuracy : {}'.format(acc))\n",
    "   \n",
    "    conf_mat=confusion_matrix(y_actual, y_pred)\n",
    "    #print(conf_mat)\n",
    "    #plt.figure(figsize=(20,20))\n",
    "    ax = plt.subplot()\n",
    "    sns.heatmap(conf_mat, annot=True, ax = ax); #annot=True to annotate cells\n",
    "\n",
    "    # labels, title and ticks\n",
    "    ax.set_xlabel('Predicted labels')\n",
    "    ax.set_ylabel('True labels')\n",
    "    ax.set_title('Confusion Matrix')\n",
    "    ax.xaxis.set_ticklabels(le.classes_)\n",
    "    ax.yaxis.set_ticklabels(le.classes_)\n",
    "    plt.xticks(rotation=90)\n",
    "    plt.yticks(rotation=0)\n",
    "    #plt.savefig('conf_matrix.png')\n",
    "    plt.show()"
   ]
  },
  {
   "cell_type": "code",
   "execution_count": 4,
   "metadata": {},
   "outputs": [
    {
     "data": {
      "text/html": [
       "<div>\n",
       "<style scoped>\n",
       "    .dataframe tbody tr th:only-of-type {\n",
       "        vertical-align: middle;\n",
       "    }\n",
       "\n",
       "    .dataframe tbody tr th {\n",
       "        vertical-align: top;\n",
       "    }\n",
       "\n",
       "    .dataframe thead th {\n",
       "        text-align: right;\n",
       "    }\n",
       "</style>\n",
       "<table border=\"1\" class=\"dataframe\">\n",
       "  <thead>\n",
       "    <tr style=\"text-align: right;\">\n",
       "      <th></th>\n",
       "      <th>airline_sentiment</th>\n",
       "      <th>airline</th>\n",
       "      <th>text</th>\n",
       "    </tr>\n",
       "  </thead>\n",
       "  <tbody>\n",
       "    <tr>\n",
       "      <th>0</th>\n",
       "      <td>neutral</td>\n",
       "      <td>Virgin America</td>\n",
       "      <td>@VirginAmerica What @dhepburn said.</td>\n",
       "    </tr>\n",
       "    <tr>\n",
       "      <th>1</th>\n",
       "      <td>positive</td>\n",
       "      <td>Virgin America</td>\n",
       "      <td>@VirginAmerica plus you've added commercials t...</td>\n",
       "    </tr>\n",
       "    <tr>\n",
       "      <th>2</th>\n",
       "      <td>neutral</td>\n",
       "      <td>Virgin America</td>\n",
       "      <td>@VirginAmerica I didn't today... Must mean I n...</td>\n",
       "    </tr>\n",
       "    <tr>\n",
       "      <th>3</th>\n",
       "      <td>negative</td>\n",
       "      <td>Virgin America</td>\n",
       "      <td>@VirginAmerica it's really aggressive to blast...</td>\n",
       "    </tr>\n",
       "    <tr>\n",
       "      <th>4</th>\n",
       "      <td>negative</td>\n",
       "      <td>Virgin America</td>\n",
       "      <td>@VirginAmerica and it's a really big bad thing...</td>\n",
       "    </tr>\n",
       "  </tbody>\n",
       "</table>\n",
       "</div>"
      ],
      "text/plain": [
       "  airline_sentiment         airline  \\\n",
       "0           neutral  Virgin America   \n",
       "1          positive  Virgin America   \n",
       "2           neutral  Virgin America   \n",
       "3          negative  Virgin America   \n",
       "4          negative  Virgin America   \n",
       "\n",
       "                                                text  \n",
       "0                @VirginAmerica What @dhepburn said.  \n",
       "1  @VirginAmerica plus you've added commercials t...  \n",
       "2  @VirginAmerica I didn't today... Must mean I n...  \n",
       "3  @VirginAmerica it's really aggressive to blast...  \n",
       "4  @VirginAmerica and it's a really big bad thing...  "
      ]
     },
     "execution_count": 4,
     "metadata": {},
     "output_type": "execute_result"
    }
   ],
   "source": [
    "data = pd.read_csv('./sentiment_analysis.csv'\n",
    "                   , low_memory = False\n",
    "                   )\n",
    "data.head()"
   ]
  },
  {
   "cell_type": "code",
   "execution_count": 5,
   "metadata": {},
   "outputs": [
    {
     "data": {
      "text/plain": [
       "array(['Virgin America', 'United', 'Southwest', 'Delta', 'US Airways',\n",
       "       'American'], dtype=object)"
      ]
     },
     "execution_count": 5,
     "metadata": {},
     "output_type": "execute_result"
    }
   ],
   "source": [
    "data.airline.unique()"
   ]
  },
  {
   "cell_type": "code",
   "execution_count": 6,
   "metadata": {},
   "outputs": [
    {
     "data": {
      "text/plain": [
       "array(['neutral', 'positive', 'negative'], dtype=object)"
      ]
     },
     "execution_count": 6,
     "metadata": {},
     "output_type": "execute_result"
    }
   ],
   "source": [
    "data.airline_sentiment.unique()"
   ]
  },
  {
   "cell_type": "code",
   "execution_count": 7,
   "metadata": {},
   "outputs": [
    {
     "data": {
      "text/plain": [
       "<matplotlib.axes._subplots.AxesSubplot at 0x1cfe2fe83c8>"
      ]
     },
     "execution_count": 7,
     "metadata": {},
     "output_type": "execute_result"
    },
    {
     "data": {
      "image/png": "[encoded data removed]",
      "text/plain": [
       "<Figure size 432x288 with 1 Axes>"
      ]
     },
     "metadata": {
      "needs_background": "light"
     },
     "output_type": "display_data"
    }
   ],
   "source": [
    "data.groupby('airline_sentiment')['text'].count().plot('bar')"
   ]
  },
  {
   "cell_type": "code",
   "execution_count": 8,
   "metadata": {},
   "outputs": [
    {
     "data": {
      "text/html": [
       "<div>\n",
       "<style scoped>\n",
       "    .dataframe tbody tr th:only-of-type {\n",
       "        vertical-align: middle;\n",
       "    }\n",
       "\n",
       "    .dataframe tbody tr th {\n",
       "        vertical-align: top;\n",
       "    }\n",
       "\n",
       "    .dataframe thead th {\n",
       "        text-align: right;\n",
       "    }\n",
       "</style>\n",
       "<table border=\"1\" class=\"dataframe\">\n",
       "  <thead>\n",
       "    <tr style=\"text-align: right;\">\n",
       "      <th></th>\n",
       "      <th>airline_sentiment</th>\n",
       "      <th>text</th>\n",
       "    </tr>\n",
       "  </thead>\n",
       "  <tbody>\n",
       "    <tr>\n",
       "      <th>0</th>\n",
       "      <td>neutral</td>\n",
       "      <td>@VirginAmerica What @dhepburn said.</td>\n",
       "    </tr>\n",
       "    <tr>\n",
       "      <th>1</th>\n",
       "      <td>positive</td>\n",
       "      <td>@VirginAmerica plus you've added commercials t...</td>\n",
       "    </tr>\n",
       "    <tr>\n",
       "      <th>2</th>\n",
       "      <td>neutral</td>\n",
       "      <td>@VirginAmerica I didn't today... Must mean I n...</td>\n",
       "    </tr>\n",
       "    <tr>\n",
       "      <th>3</th>\n",
       "      <td>negative</td>\n",
       "      <td>@VirginAmerica it's really aggressive to blast...</td>\n",
       "    </tr>\n",
       "    <tr>\n",
       "      <th>4</th>\n",
       "      <td>negative</td>\n",
       "      <td>@VirginAmerica and it's a really big bad thing...</td>\n",
       "    </tr>\n",
       "  </tbody>\n",
       "</table>\n",
       "</div>"
      ],
      "text/plain": [
       "  airline_sentiment                                               text\n",
       "0           neutral                @VirginAmerica What @dhepburn said.\n",
       "1          positive  @VirginAmerica plus you've added commercials t...\n",
       "2           neutral  @VirginAmerica I didn't today... Must mean I n...\n",
       "3          negative  @VirginAmerica it's really aggressive to blast...\n",
       "4          negative  @VirginAmerica and it's a really big bad thing..."
      ]
     },
     "execution_count": 8,
     "metadata": {},
     "output_type": "execute_result"
    }
   ],
   "source": [
    "data = data[['airline_sentiment','text']]\n",
    "data.head()"
   ]
  },
  {
   "cell_type": "code",
   "execution_count": 9,
   "metadata": {},
   "outputs": [],
   "source": [
    "#TEXT CLEANING\n",
    "\n",
    "#Remove words starting with @ as they aree just references\n",
    "data['cleaned_text'] = data['text'].apply(lambda x: ' '.join(word for word in x.split(' ') if not word.startswith('@')))\n",
    "\n",
    "#Remove .\n",
    "data['cleaned_text'] = data['cleaned_text'].str.lower().replace('.','')\n",
    "\n",
    "#Remove Special Characters\n",
    "data['cleaned_text'] = data['cleaned_text'].str.replace('[^\\w\\s]','')"
   ]
  },
  {
   "cell_type": "code",
   "execution_count": 10,
   "metadata": {},
   "outputs": [
    {
     "data": {
      "text/plain": [
       "count    14640.000000\n",
       "mean        16.685587\n",
       "std          6.948965\n",
       "min          1.000000\n",
       "25%         11.000000\n",
       "50%         18.000000\n",
       "75%         22.000000\n",
       "max         35.000000\n",
       "Name: seq_length, dtype: float64"
      ]
     },
     "execution_count": 10,
     "metadata": {},
     "output_type": "execute_result"
    }
   ],
   "source": [
    "data['seq_length'] = data['cleaned_text'].apply(lambda x: len(str(x).split(\" \")))\n",
    "data.seq_length.describe()"
   ]
  },
  {
   "cell_type": "code",
   "execution_count": 11,
   "metadata": {},
   "outputs": [
    {
     "data": {
      "text/html": [
       "<div>\n",
       "<style scoped>\n",
       "    .dataframe tbody tr th:only-of-type {\n",
       "        vertical-align: middle;\n",
       "    }\n",
       "\n",
       "    .dataframe tbody tr th {\n",
       "        vertical-align: top;\n",
       "    }\n",
       "\n",
       "    .dataframe thead th {\n",
       "        text-align: right;\n",
       "    }\n",
       "</style>\n",
       "<table border=\"1\" class=\"dataframe\">\n",
       "  <thead>\n",
       "    <tr style=\"text-align: right;\">\n",
       "      <th></th>\n",
       "      <th>airline_sentiment</th>\n",
       "      <th>text</th>\n",
       "      <th>cleaned_text</th>\n",
       "      <th>seq_length</th>\n",
       "      <th>airline_sentiment_encoded</th>\n",
       "    </tr>\n",
       "  </thead>\n",
       "  <tbody>\n",
       "    <tr>\n",
       "      <th>0</th>\n",
       "      <td>neutral</td>\n",
       "      <td>@VirginAmerica What @dhepburn said.</td>\n",
       "      <td>what said</td>\n",
       "      <td>2</td>\n",
       "      <td>1</td>\n",
       "    </tr>\n",
       "    <tr>\n",
       "      <th>1</th>\n",
       "      <td>positive</td>\n",
       "      <td>@VirginAmerica plus you've added commercials t...</td>\n",
       "      <td>plus youve added commercials to the experience...</td>\n",
       "      <td>8</td>\n",
       "      <td>2</td>\n",
       "    </tr>\n",
       "    <tr>\n",
       "      <th>2</th>\n",
       "      <td>neutral</td>\n",
       "      <td>@VirginAmerica I didn't today... Must mean I n...</td>\n",
       "      <td>i didnt today must mean i need to take another...</td>\n",
       "      <td>11</td>\n",
       "      <td>1</td>\n",
       "    </tr>\n",
       "    <tr>\n",
       "      <th>3</th>\n",
       "      <td>negative</td>\n",
       "      <td>@VirginAmerica it's really aggressive to blast...</td>\n",
       "      <td>its really aggressive to blast obnoxious enter...</td>\n",
       "      <td>16</td>\n",
       "      <td>0</td>\n",
       "    </tr>\n",
       "    <tr>\n",
       "      <th>4</th>\n",
       "      <td>negative</td>\n",
       "      <td>@VirginAmerica and it's a really big bad thing...</td>\n",
       "      <td>and its a really big bad thing about it</td>\n",
       "      <td>9</td>\n",
       "      <td>0</td>\n",
       "    </tr>\n",
       "  </tbody>\n",
       "</table>\n",
       "</div>"
      ],
      "text/plain": [
       "  airline_sentiment                                               text  \\\n",
       "0           neutral                @VirginAmerica What @dhepburn said.   \n",
       "1          positive  @VirginAmerica plus you've added commercials t...   \n",
       "2           neutral  @VirginAmerica I didn't today... Must mean I n...   \n",
       "3          negative  @VirginAmerica it's really aggressive to blast...   \n",
       "4          negative  @VirginAmerica and it's a really big bad thing...   \n",
       "\n",
       "                                        cleaned_text  seq_length  \\\n",
       "0                                          what said           2   \n",
       "1  plus youve added commercials to the experience...           8   \n",
       "2  i didnt today must mean i need to take another...          11   \n",
       "3  its really aggressive to blast obnoxious enter...          16   \n",
       "4            and its a really big bad thing about it           9   \n",
       "\n",
       "   airline_sentiment_encoded  \n",
       "0                          1  \n",
       "1                          2  \n",
       "2                          1  \n",
       "3                          0  \n",
       "4                          0  "
      ]
     },
     "execution_count": 11,
     "metadata": {},
     "output_type": "execute_result"
    }
   ],
   "source": [
    "le = LabelEncoder()\n",
    "data['airline_sentiment_encoded'] = le.fit_transform( data['airline_sentiment'])\n",
    "data.head()"
   ]
  },
  {
   "cell_type": "code",
   "execution_count": 12,
   "metadata": {},
   "outputs": [
    {
     "data": {
      "text/plain": [
       "(14640, 5)"
      ]
     },
     "execution_count": 12,
     "metadata": {},
     "output_type": "execute_result"
    }
   ],
   "source": [
    "data.shape"
   ]
  },
  {
   "cell_type": "code",
   "execution_count": 13,
   "metadata": {},
   "outputs": [
    {
     "name": "stdout",
     "output_type": "stream",
     "text": [
      "time taken to process : 0.04 seconds\n"
     ]
    }
   ],
   "source": [
    "st_time = time.time()\n",
    "sentence_corpus = []\n",
    "for i in data.cleaned_text:\n",
    "    sentence_corpus.append(i.split())\n",
    "len(sentence_corpus)\n",
    "print('time taken to process : {} seconds'.format(round(time.time() - st_time ,2)))"
   ]
  },
  {
   "cell_type": "code",
   "execution_count": 14,
   "metadata": {},
   "outputs": [
    {
     "name": "stdout",
     "output_type": "stream",
     "text": [
      "vocab_size : 15884\n",
      "time taken to process : 4.16 seconds\n"
     ]
    }
   ],
   "source": [
    "st_time = time.time()\n",
    "vocab = []\n",
    "for i in data.cleaned_text:\n",
    "    for j in i.split():\n",
    "        if j not in vocab:\n",
    "            vocab.append(j)\n",
    "vocab_size = len(vocab)\n",
    "print('vocab_size : {}'.format(vocab_size))\n",
    "print('time taken to process : {} seconds'.format(round(time.time() - st_time ,2)))"
   ]
  },
  {
   "cell_type": "code",
   "execution_count": 15,
   "metadata": {},
   "outputs": [
    {
     "name": "stdout",
     "output_type": "stream",
     "text": [
      "15884\n",
      "15884\n",
      "time taken to map vocab : 4.18 seconds\n"
     ]
    }
   ],
   "source": [
    "word_to_idx = {}\n",
    "idx_to_word = {}\n",
    "for i in enumerate(vocab):\n",
    "    #print(i)\n",
    "    word_to_idx[i[1]] = i[0]\n",
    "    idx_to_word[i[0]] = i[1]\n",
    "print(len(word_to_idx))\n",
    "print(len(idx_to_word))\n",
    "print('time taken to map vocab : {} seconds'.format(round(time.time() - st_time ,2)))"
   ]
  },
  {
   "cell_type": "code",
   "execution_count": 16,
   "metadata": {},
   "outputs": [
    {
     "name": "stdout",
     "output_type": "stream",
     "text": [
      "max_sentence_length : 35\n"
     ]
    }
   ],
   "source": [
    "max_sentence_length = 35\n",
    "seq_len = max_sentence_length\n",
    "print('max_sentence_length : {}'.format(max_sentence_length))\n",
    "for i in range(0,len(sentence_corpus)):\n",
    "    sentence = sentence_corpus[i]\n",
    "    if len(sentence) < max_sentence_length :\n",
    "        padding_length = max_sentence_length - len(sentence)\n",
    "        #print(padding_length)\n",
    "        for j in range(len(sentence) , max_sentence_length) :\n",
    "            sentence.append('<>')"
   ]
  },
  {
   "cell_type": "code",
   "execution_count": 17,
   "metadata": {},
   "outputs": [
    {
     "name": "stdout",
     "output_type": "stream",
     "text": [
      "time taken to train word2vec : 1.39 seconds\n"
     ]
    }
   ],
   "source": [
    "vec_size = 256\n",
    "st_time = time.time()\n",
    "word2vec = Word2Vec(sentence_corpus, window=3 , min_count=1, size=vec_size , workers=os.cpu_count())\n",
    "print('time taken to train word2vec : {} seconds'.format(round(time.time() - st_time ,2)))"
   ]
  },
  {
   "cell_type": "code",
   "execution_count": 18,
   "metadata": {},
   "outputs": [],
   "source": [
    "def vectorize_sentence(sentence):\n",
    "    sentence = sentence.split()\n",
    "    input_data = np.zeros((seq_len,vec_size))\n",
    "    #print(corpus)\n",
    "    k = 0\n",
    "    for i in sentence:\n",
    "        if k < seq_len : \n",
    "            if i == '<>':\n",
    "                word_vector = np.zeros(vec_size)\n",
    "            else:\n",
    "                word_vector = word2vec.wv[i] \n",
    "            input_data[k] = word_vector\n",
    "        else:\n",
    "            continue\n",
    "        k+=1\n",
    "        #print(i)\n",
    "    return input_data"
   ]
  },
  {
   "cell_type": "code",
   "execution_count": 19,
   "metadata": {},
   "outputs": [
    {
     "name": "stdout",
     "output_type": "stream",
     "text": [
      "records done : 1000/14640 \t time : 0.33\n",
      "records done : 2000/14640 \t time : 0.32\n",
      "records done : 3000/14640 \t time : 0.31\n",
      "records done : 4000/14640 \t time : 0.33\n",
      "records done : 5000/14640 \t time : 0.31\n",
      "records done : 6000/14640 \t time : 0.3\n",
      "records done : 7000/14640 \t time : 0.3\n",
      "records done : 8000/14640 \t time : 0.3\n",
      "records done : 9000/14640 \t time : 0.3\n",
      "records done : 10000/14640 \t time : 0.32\n",
      "records done : 11000/14640 \t time : 0.31\n",
      "records done : 12000/14640 \t time : 0.33\n",
      "records done : 13000/14640 \t time : 0.31\n",
      "records done : 14000/14640 \t time : 0.31\n"
     ]
    }
   ],
   "source": [
    "X = []\n",
    "print_every = 1000\n",
    "ctr = 0\n",
    "st_time = time.time()\n",
    "total_records = data.shape[0]\n",
    "for idx in data.index :\n",
    "    text = data.loc[idx].cleaned_text\n",
    "    feature = vectorize_sentence(text)\n",
    "    X.append(feature)\n",
    "    ctr+=1\n",
    "    if ctr % print_every == 0 :\n",
    "        print('records done : {}/{} \\t time : {}'.format(ctr , total_records , round(time.time() - st_time ,2)))\n",
    "        st_time = time.time()"
   ]
  },
  {
   "cell_type": "code",
   "execution_count": 20,
   "metadata": {},
   "outputs": [],
   "source": [
    "Y = data['airline_sentiment_encoded'].values\n",
    "x_train, x_val, y_train, y_val = train_test_split(X, Y, test_size=0.1, random_state=7)"
   ]
  },
  {
   "cell_type": "code",
   "execution_count": 21,
   "metadata": {},
   "outputs": [],
   "source": [
    "batch_size = 8\n",
    "x_train = torch.tensor(x_train)\n",
    "y_train = torch.tensor(y_train)\n",
    "train_dataset = torch.utils.data.TensorDataset(x_train ,y_train)\n",
    "train_dataloader = DataLoader(train_dataset, batch_size=batch_size, shuffle=False, num_workers=4)\n",
    "\n",
    "x_val = torch.tensor(x_val)\n",
    "y_val = torch.tensor(y_val)\n",
    "val_dataset = torch.utils.data.TensorDataset(x_val ,y_val)\n",
    "val_dataloader = DataLoader(val_dataset, batch_size=batch_size, shuffle=False, num_workers=4)"
   ]
  },
  {
   "cell_type": "code",
   "execution_count": 22,
   "metadata": {},
   "outputs": [],
   "source": [
    "output_size = len(le.classes_)\n",
    "batch_size = batch_size\n",
    "drop_out_probability = 0.5\n",
    "input_size = vec_size\n",
    "hidden_size = input_size\n",
    "num_layers = 1"
   ]
  },
  {
   "cell_type": "code",
   "execution_count": 23,
   "metadata": {},
   "outputs": [
    {
     "name": "stdout",
     "output_type": "stream",
     "text": [
      "CUDA available, training on GPU\n"
     ]
    }
   ],
   "source": [
    "if torch.cuda.is_available():\n",
    "    device = torch.device(\"cuda\")\n",
    "    print('CUDA available, training on GPU')\n",
    "else :\n",
    "    device = torch.device(\"cpu\")\n",
    "    print('cuda NOT available, training on CPU') \n",
    "    \n",
    "#device = torch.device(\"cpu\")"
   ]
  },
  {
   "cell_type": "code",
   "execution_count": 24,
   "metadata": {},
   "outputs": [
    {
     "name": "stderr",
     "output_type": "stream",
     "text": [
      "c:\\python\\python37\\lib\\site-packages\\torch\\nn\\modules\\rnn.py:54: UserWarning: dropout option adds dropout after all but last recurrent layer, so non-zero dropout expects num_layers greater than 1, but got dropout=0.5 and num_layers=1\n",
      "  \"num_layers={}\".format(dropout, num_layers))\n"
     ]
    },
    {
     "data": {
      "text/plain": [
       "NN_Classifier(\n",
       "  (lstm1): LSTM(256, 256, batch_first=True, dropout=0.5)\n",
       "  (fc1): Linear(in_features=256, out_features=256, bias=True)\n",
       "  (dropout1): Dropout(p=0.5)\n",
       "  (out): Linear(in_features=256, out_features=3, bias=True)\n",
       ")"
      ]
     },
     "execution_count": 24,
     "metadata": {},
     "output_type": "execute_result"
    }
   ],
   "source": [
    "class NN_Classifier(nn.Module):\n",
    "    def __init__(self , input_size , hidden_size , num_layers , output_size):\n",
    "        super(NN_Classifier ,self).__init__()\n",
    "        \n",
    "        self.input_size = input_size\n",
    "        self.hidden_size = hidden_size\n",
    "        self.output_size = output_size\n",
    "        self.num_layers = num_layers\n",
    "        \n",
    "        #lstm layer\n",
    "        self.lstm1 = nn.LSTM(input_size = input_size\n",
    "                             , hidden_size = hidden_size \n",
    "                             , num_layers = num_layers\n",
    "                             , batch_first = True \n",
    "                             ,dropout=drop_out_probability\n",
    "                             )\n",
    "        \n",
    "        # Inputs to hidden layer linear transformation\n",
    "        self.fc1 = nn.Linear(in_features = input_size , out_features = hidden_size)\n",
    "        \n",
    "        #Droput layer before output\n",
    "        self.dropout1 = nn.Dropout(p = drop_out_probability)\n",
    "        \n",
    "        # Output layer, 10 units - one for each digit\n",
    "        self.out = nn.Linear(in_features = hidden_size , out_features = output_size)\n",
    "        \n",
    "    def _init_hidden(self,batch_size):\n",
    "        hidden = torch.zeros((self.num_layers, batch_size , self.hidden_size),dtype = torch.float64)\n",
    "        c_0 = torch.zeros((self.num_layers, batch_size , self.hidden_size),dtype = torch.float64)\n",
    "        return hidden.to(device) , c_0.to(device)\n",
    "        \n",
    "    def forward(self,x):\n",
    "        \n",
    "        #create initial hidden layer of zeros and intial state of zeros\n",
    "        hidden , c_0 = self._init_hidden(batch_size)\n",
    "        \n",
    "        # Pass the input tensor through LSTM\n",
    "        lstm_out ,hidden = self.lstm1(x,(hidden,c_0))\n",
    "        \n",
    "        #Transpose tensor before feeding into Linear layer\n",
    "        lstm_out = lstm_out.transpose(dim0 = 0, dim1 = 1)\n",
    "        x = self.fc1(lstm_out[-1])\n",
    "        \n",
    "        #Dropout layer\n",
    "        x = self.dropout1(x)\n",
    "        \n",
    "        #Fully connected layer\n",
    "        x = self.fc1(x)\n",
    "        x = F.relu(x)\n",
    "        \n",
    "        #Output layer\n",
    "        x = self.out(x)\n",
    "        \n",
    "        return x\n",
    "    \n",
    "model = NN_Classifier(input_size = input_size \n",
    "                        , hidden_size = hidden_size\n",
    "                        , output_size = output_size\n",
    "                        , num_layers = num_layers)\n",
    "model.double()"
   ]
  },
  {
   "cell_type": "code",
   "execution_count": 25,
   "metadata": {},
   "outputs": [
    {
     "name": "stdout",
     "output_type": "stream",
     "text": [
      "epoch: 1/5\tbatch: 0/1647\ttrain loss : 1.0671220212429282\ttime : 1.91 secs \n",
      "epoch: 1/5\tbatch: 200/1647\ttrain loss : 0.9199494177764738\ttime : 11.43 secs \n",
      "epoch: 1/5\tbatch: 400/1647\ttrain loss : 0.5859219247085287\ttime : 11.35 secs \n",
      "epoch: 1/5\tbatch: 600/1647\ttrain loss : 0.8071059211872351\ttime : 11.54 secs \n",
      "epoch: 1/5\tbatch: 800/1647\ttrain loss : 1.0673975646845089\ttime : 11.39 secs \n",
      "epoch: 1/5\tbatch: 1000/1647\ttrain loss : 1.0168548410312195\ttime : 11.51 secs \n",
      "epoch: 1/5\tbatch: 1200/1647\ttrain loss : 1.0413212656527466\ttime : 11.53 secs \n",
      "epoch: 1/5\tbatch: 1400/1647\ttrain loss : 0.5913696436532068\ttime : 11.38 secs \n",
      "epoch: 1/5\tbatch: 1600/1647\ttrain loss : 1.2215264860117612\ttime : 11.36 secs \n",
      "\n",
      "epoch : 1/5\t train_loss :0.8405276141259248\t validation loss : 0.8122330777956154\n",
      "epoch : 1/5 \t train loss : 0.8405276141259248 \t time required : 7.24 secs\n",
      "\n",
      "epoch: 2/5\tbatch: 0/1647\ttrain loss : 0.7947038666789403\ttime : 0.79 secs \n",
      "epoch: 2/5\tbatch: 200/1647\ttrain loss : 0.9704418375710036\ttime : 11.37 secs \n",
      "epoch: 2/5\tbatch: 400/1647\ttrain loss : 0.6080227939980565\ttime : 11.52 secs \n",
      "epoch: 2/5\tbatch: 600/1647\ttrain loss : 0.5874116155904686\ttime : 11.42 secs \n",
      "epoch: 2/5\tbatch: 800/1647\ttrain loss : 0.9335530980339242\ttime : 11.51 secs \n",
      "epoch: 2/5\tbatch: 1000/1647\ttrain loss : 0.8453325981089423\ttime : 11.4 secs \n",
      "epoch: 2/5\tbatch: 1200/1647\ttrain loss : 0.7871127189281385\ttime : 11.4 secs \n",
      "epoch: 2/5\tbatch: 1400/1647\ttrain loss : 0.6344197001632503\ttime : 11.54 secs \n",
      "epoch: 2/5\tbatch: 1600/1647\ttrain loss : 0.9546175190075634\ttime : 11.51 secs \n",
      "\n",
      "epoch : 2/5\t train_loss :0.7595923834904672\t validation loss : 0.7446652049065119\n",
      "epoch : 2/5 \t train loss : 0.7595923834904672 \t time required : 7.0 secs\n",
      "\n",
      "epoch: 3/5\tbatch: 0/1647\ttrain loss : 0.7190768573642475\ttime : 0.93 secs \n",
      "epoch: 3/5\tbatch: 200/1647\ttrain loss : 0.8946216565321298\ttime : 12.54 secs \n",
      "epoch: 3/5\tbatch: 400/1647\ttrain loss : 0.5438207006690837\ttime : 12.7 secs \n",
      "epoch: 3/5\tbatch: 600/1647\ttrain loss : 0.6545412647670424\ttime : 12.18 secs \n",
      "epoch: 3/5\tbatch: 800/1647\ttrain loss : 0.9791865131859709\ttime : 12.27 secs \n",
      "epoch: 3/5\tbatch: 1000/1647\ttrain loss : 0.8717466596183291\ttime : 12.02 secs \n",
      "epoch: 3/5\tbatch: 1200/1647\ttrain loss : 0.7589820613922695\ttime : 12.08 secs \n",
      "epoch: 3/5\tbatch: 1400/1647\ttrain loss : 0.6435504793088896\ttime : 12.04 secs \n",
      "epoch: 3/5\tbatch: 1600/1647\ttrain loss : 0.936752076343951\ttime : 12.08 secs \n",
      "patience_ctr : 1\n",
      "\n",
      "epoch : 3/5\t train_loss :0.7198740879151125\t validation loss : 0.736127179334689\n",
      "epoch : 3/5 \t train loss : 0.7198740879151125 \t time required : 7.57 secs\n",
      "\n",
      "epoch: 4/5\tbatch: 0/1647\ttrain loss : 0.745387590480299\ttime : 0.97 secs \n",
      "epoch: 4/5\tbatch: 200/1647\ttrain loss : 0.8045767952188122\ttime : 11.9 secs \n",
      "epoch: 4/5\tbatch: 400/1647\ttrain loss : 0.46509416687205357\ttime : 11.54 secs \n",
      "epoch: 4/5\tbatch: 600/1647\ttrain loss : 0.5902127526260106\ttime : 11.68 secs \n",
      "epoch: 4/5\tbatch: 800/1647\ttrain loss : 0.9859200469143585\ttime : 11.56 secs \n",
      "epoch: 4/5\tbatch: 1000/1647\ttrain loss : 0.7954572514364046\ttime : 11.34 secs \n",
      "epoch: 4/5\tbatch: 1200/1647\ttrain loss : 0.9733372005408596\ttime : 11.44 secs \n",
      "epoch: 4/5\tbatch: 1400/1647\ttrain loss : 0.6487491174565295\ttime : 11.36 secs \n",
      "epoch: 4/5\tbatch: 1600/1647\ttrain loss : 0.8769037676012204\ttime : 11.29 secs \n",
      "patience_ctr : 2\n",
      "early stoppping since valid_loss > train_loss\n"
     ]
    }
   ],
   "source": [
    "epochs = 5\n",
    "loss_fn = F.cross_entropy\n",
    "\n",
    "learning_rate = 0.0005\n",
    "\n",
    "optimizer = torch.optim.Adam(model.parameters(), lr = learning_rate)\n",
    "print_every = 200\n",
    "model.to(device)\n",
    "\n",
    "\n",
    "# to track the average training loss per epoch as the model trains\n",
    "avg_train_losses = []\n",
    "# to track the average validation loss per epoch as the model trains\n",
    "avg_valid_losses = [] \n",
    "patience_ctr = 0\n",
    "patience = 2\n",
    "\n",
    "\n",
    "st_time = time.time()\n",
    "    \n",
    "for epoch in range(1,epochs+1):\n",
    "    \n",
    "    # to track the training loss as the model trains\n",
    "    train_losses = []\n",
    "    # to track the validation loss as the model trains\n",
    "    valid_losses = []\n",
    "\n",
    "    batch = 0\n",
    "    #loss = 0\n",
    "    st_time = time.time()\n",
    "    model.train()\n",
    "    for x, y in train_dataloader :\n",
    "        x = x.to(device)\n",
    "        y = y.long().to(device)\n",
    "        \n",
    "        optimizer.zero_grad()\n",
    "        y_pred = model(x)\n",
    "        \n",
    "        #y_pred = y_pred.unsqueeze(0)\n",
    "        loss = loss_fn(y_pred , y)\n",
    "\n",
    "        loss.backward()\n",
    "        optimizer.step()\n",
    "        \n",
    "        train_losses.append(loss.item())\n",
    "        \n",
    "        if (batch % print_every == 0):\n",
    "            print('epoch: {}/{}\\tbatch: {}/{}\\ttrain loss : {}\\ttime : {} secs '.format(epoch, \n",
    "                                                                                       epochs , \n",
    "                                                                                       batch,\n",
    "                                                                                       len(train_dataloader) , \n",
    "                                                                                       loss.item() , \n",
    "                                                                                       round(time.time() - st_time , 2)))\n",
    "            st_time = time.time()\n",
    "            \n",
    "        batch +=1\n",
    "\n",
    "    #Calculate Validation loss\n",
    "    val_acc = 0\n",
    "    model = model.eval()\n",
    "    for x_v, y_v in val_dataloader :\n",
    "        x_v = x_v.to(device)\n",
    "        y_v = y_v.long().to(device)\n",
    "        \n",
    "        y_pred = model(x_v)\n",
    "        loss = loss_fn(y_pred , y_v)\n",
    "        \n",
    "        valid_losses.append(loss.item())\n",
    "    \n",
    "    # calculate average loss over an epoch\n",
    "    train_loss = np.average(train_losses)\n",
    "    valid_loss = np.average(valid_losses)\n",
    "    avg_train_losses.append(train_loss)\n",
    "    avg_valid_losses.append(valid_loss)\n",
    "\n",
    "    #Early stopping\n",
    "    if valid_loss > train_loss:\n",
    "        patience_ctr +=1\n",
    "        print('patience_ctr : {}'.format(patience_ctr))\n",
    "        if patience_ctr >= patience:\n",
    "            print('early stoppping since valid_loss > train_loss')\n",
    "            break\n",
    "    else :\n",
    "        patience_ctr = 0\n",
    "    \n",
    "    epoch_len = len(str(epochs))\n",
    "    print('\\nepoch : {}/{}\\t train_loss :{}\\t validation loss : {}'.format(epoch , \n",
    "                                                                           epochs, \n",
    "                                                                           train_loss , \n",
    "                                                                           valid_loss))\n",
    "    \n",
    "            \n",
    "    print('epoch : {}/{} \\t train loss : {} \\t time required : {} secs\\n'.format(epoch, \n",
    "                                                                          epochs, \n",
    "                                                                          train_loss,\n",
    "                                                                          round(time.time() - st_time , 2)))\n"
   ]
  },
  {
   "cell_type": "code",
   "execution_count": 26,
   "metadata": {},
   "outputs": [
    {
     "name": "stdout",
     "output_type": "stream",
     "text": [
      "50\n",
      "100\n",
      "150\n",
      "time taken for prediction :4.579709053039551 seconds\n"
     ]
    }
   ],
   "source": [
    "st_time = time.time()\n",
    "ctr = 0\n",
    "print_every = 50\n",
    "model = model.eval()\n",
    "for x_v, y_v in val_dataloader :\n",
    "    x_v = x_v.to(device)\n",
    "    #y_v = y_v.to(device)\n",
    "   \n",
    "    op = model(x_v)\n",
    "    op = torch.argmax(F.softmax(op , dim = 1), dim = 1)\n",
    "    if ctr == 0:\n",
    "        y_pred = op\n",
    "        y_actual = y_v\n",
    "    else:\n",
    "        y_pred = torch.cat((y_pred , op))\n",
    "        y_actual = torch.cat((y_actual , y_v))\n",
    "   \n",
    "    ctr += 1\n",
    "   \n",
    "    if ctr % print_every == 0:\n",
    "        print(ctr)\n",
    "print('time taken for prediction :{} seconds'.format(time.time() - st_time ))"
   ]
  },
  {
   "cell_type": "code",
   "execution_count": 27,
   "metadata": {},
   "outputs": [
    {
     "name": "stdout",
     "output_type": "stream",
     "text": [
      "              precision    recall  f1-score   support\n",
      "\n",
      "           0       0.80      0.85      0.82       916\n",
      "           1       0.54      0.56      0.55       312\n",
      "           2       0.64      0.44      0.52       236\n",
      "\n",
      "    accuracy                           0.72      1464\n",
      "   macro avg       0.66      0.62      0.63      1464\n",
      "weighted avg       0.72      0.72      0.72      1464\n",
      "\n",
      "accuracy : 0.7240437158469946\n"
     ]
    },
    {
     "data": {
      "image/png": "[encoded data removed]",
      "text/plain": [
       "<Figure size 432x288 with 2 Axes>"
      ]
     },
     "metadata": {
      "needs_background": "light"
     },
     "output_type": "display_data"
    }
   ],
   "source": [
    "y_actual = y_val\n",
    "y_pred = y_pred.cpu().detach().numpy()\n",
    "my_classification_report(y_actual = y_actual , y_predicted = y_pred)"
   ]
  },
  {
   "cell_type": "code",
   "execution_count": null,
   "metadata": {},
   "outputs": [],
   "source": []
  }
 ],
 "metadata": {
  "kernelspec": {
   "display_name": "Python 3",
   "language": "python",
   "name": "python3"
  },
  "language_info": {
   "codemirror_mode": {
    "name": "ipython",
    "version": 3
   },
   "file_extension": ".py",
   "mimetype": "text/x-python",
   "name": "python",
   "nbconvert_exporter": "python",
   "pygments_lexer": "ipython3",
   "version": "3.7.3"
  }
 },
 "nbformat": 4,
 "nbformat_minor": 2
}
