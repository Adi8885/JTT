{
 "cells": [
  {
   "cell_type": "code",
   "execution_count": 1,
   "metadata": {},
   "outputs": [
    {
     "name": "stderr",
     "output_type": "stream",
     "text": [
      "c:\\python\\python37\\lib\\site-packages\\sklearn\\externals\\joblib\\__init__.py:15: DeprecationWarning: sklearn.externals.joblib is deprecated in 0.21 and will be removed in 0.23. Please import this functionality directly from joblib, which can be installed with: pip install joblib. If this warning is raised when loading pickled models, you may need to re-serialize those models with scikit-learn 0.21+.\n",
      "  warnings.warn(msg, category=DeprecationWarning)\n"
     ]
    }
   ],
   "source": [
    "import time\n",
    "import os\n",
    "import sys\n",
    "import pickle\n",
    "import math\n",
    "\n",
    "import re\n",
    "\n",
    "import pandas as pd\n",
    "import numpy as np\n",
    "import matplotlib.pyplot as plt\n",
    "import seaborn as sns\n",
    "\n",
    "import nltk\n",
    "from nltk.corpus import stopwords\n",
    "stop = stopwords.words('english')\n",
    "\n",
    "from nltk.tokenize import word_tokenize\n",
    "from gensim.models.doc2vec import Doc2Vec, TaggedDocument\n",
    "\n",
    "from sklearn.preprocessing import LabelEncoder\n",
    "from sklearn.model_selection import train_test_split\n",
    "from sklearn.utils import shuffle\n",
    "from sklearn.metrics import classification_report , accuracy_score , confusion_matrix , precision_score , f1_score\n",
    "\n",
    "from skopt.space import Real, Categorical, Integer\n",
    "from skopt import forest_minimize, gbrt_minimize, gp_minimize\n",
    "from skopt.callbacks import DeltaYStopper\n",
    "from skopt.utils import use_named_args\n",
    "\n",
    "import torch\n",
    "import torch.nn as nn\n",
    "import torch.nn.functional as F\n",
    "import torchvision.datasets as Dataset\n",
    "import torch.autograd as autograd\n",
    "from torch.utils.data import Dataset, DataLoader\n",
    "import torchvision\n",
    "\n",
    "from transformers import BertModel , BertTokenizer\n",
    "\n",
    "import xgboost as xgb\n",
    "\n",
    "%matplotlib inline"
   ]
  },
  {
   "cell_type": "code",
   "execution_count": 2,
   "metadata": {},
   "outputs": [],
   "source": [
    "import linecache\n",
    "import pprint\n",
    "\n",
    "def PrintException():\n",
    "    \"\"\"\n",
    "    Description : \n",
    "    - This function throws error without breaking the code. \n",
    "    - To be used for displaing errors in try-except blocks\n",
    "    - Doesnot take any argument nor return anything\n",
    "    \"\"\"\n",
    "    \n",
    "    exc_type, exc_obj, tb = sys.exc_info()\n",
    "    f = tb.tb_frame\n",
    "    lineno = tb.tb_lineno\n",
    "    filename = f.f_code.co_filename\n",
    "    linecache.checkcache(filename)\n",
    "    line = linecache.getline(filename, lineno, f.f_globals)\n",
    "    print ('EXCEPTION IN ({}, LINE {} \"{}\"): {}'.format(filename, lineno, line.strip(), exc_obj))\n",
    "    return"
   ]
  },
  {
   "cell_type": "code",
   "execution_count": 3,
   "metadata": {},
   "outputs": [],
   "source": [
    "def my_classification_report(y_actual , y_predicted):\n",
    "    \"\"\"\n",
    "    Description : \n",
    "    - This function takes precdicted and actual values and gives key classification metrics\n",
    "    \n",
    "    Inputs:\n",
    "    1. y_actual : Array of actual labels\n",
    "    2. y_pred :  Array of predicted labels\n",
    "    \n",
    "    Outputs:\n",
    "    1. Prescision , recall, F1-Score and Accuracy metrics\n",
    "    2. Plot of confusion matrix\n",
    "    \"\"\"\n",
    "    \n",
    "    print(classification_report(y_actual, y_pred))\n",
    "    acc = accuracy_score(y_actual , y_predicted)\n",
    "    print('accuracy : {}'.format(acc))\n",
    "   \n",
    "    conf_mat=confusion_matrix(y_actual, y_pred)\n",
    "    #print(conf_mat)\n",
    "    #plt.figure(figsize=(20,20))\n",
    "    ax = plt.subplot()\n",
    "    sns.heatmap(conf_mat, annot=True, ax = ax); #annot=True to annotate cells\n",
    "\n",
    "    # labels, title and ticks\n",
    "    ax.set_xlabel('Predicted labels')\n",
    "    ax.set_ylabel('True labels')\n",
    "    ax.set_title('Confusion Matrix')\n",
    "    ax.xaxis.set_ticklabels(le.classes_)\n",
    "    ax.yaxis.set_ticklabels(le.classes_)\n",
    "    plt.xticks(rotation=90)\n",
    "    plt.yticks(rotation=0)\n",
    "    #plt.savefig('conf_matrix.png')\n",
    "    plt.show()"
   ]
  },
  {
   "cell_type": "code",
   "execution_count": 4,
   "metadata": {},
   "outputs": [
    {
     "data": {
      "text/html": [
       "<div>\n",
       "<style scoped>\n",
       "    .dataframe tbody tr th:only-of-type {\n",
       "        vertical-align: middle;\n",
       "    }\n",
       "\n",
       "    .dataframe tbody tr th {\n",
       "        vertical-align: top;\n",
       "    }\n",
       "\n",
       "    .dataframe thead th {\n",
       "        text-align: right;\n",
       "    }\n",
       "</style>\n",
       "<table border=\"1\" class=\"dataframe\">\n",
       "  <thead>\n",
       "    <tr style=\"text-align: right;\">\n",
       "      <th></th>\n",
       "      <th>airline_sentiment</th>\n",
       "      <th>airline</th>\n",
       "      <th>text</th>\n",
       "    </tr>\n",
       "  </thead>\n",
       "  <tbody>\n",
       "    <tr>\n",
       "      <th>0</th>\n",
       "      <td>neutral</td>\n",
       "      <td>Virgin America</td>\n",
       "      <td>@VirginAmerica What @dhepburn said.</td>\n",
       "    </tr>\n",
       "    <tr>\n",
       "      <th>1</th>\n",
       "      <td>positive</td>\n",
       "      <td>Virgin America</td>\n",
       "      <td>@VirginAmerica plus you've added commercials t...</td>\n",
       "    </tr>\n",
       "    <tr>\n",
       "      <th>2</th>\n",
       "      <td>neutral</td>\n",
       "      <td>Virgin America</td>\n",
       "      <td>@VirginAmerica I didn't today... Must mean I n...</td>\n",
       "    </tr>\n",
       "    <tr>\n",
       "      <th>3</th>\n",
       "      <td>negative</td>\n",
       "      <td>Virgin America</td>\n",
       "      <td>@VirginAmerica it's really aggressive to blast...</td>\n",
       "    </tr>\n",
       "    <tr>\n",
       "      <th>4</th>\n",
       "      <td>negative</td>\n",
       "      <td>Virgin America</td>\n",
       "      <td>@VirginAmerica and it's a really big bad thing...</td>\n",
       "    </tr>\n",
       "  </tbody>\n",
       "</table>\n",
       "</div>"
      ],
      "text/plain": [
       "  airline_sentiment         airline  \\\n",
       "0           neutral  Virgin America   \n",
       "1          positive  Virgin America   \n",
       "2           neutral  Virgin America   \n",
       "3          negative  Virgin America   \n",
       "4          negative  Virgin America   \n",
       "\n",
       "                                                text  \n",
       "0                @VirginAmerica What @dhepburn said.  \n",
       "1  @VirginAmerica plus you've added commercials t...  \n",
       "2  @VirginAmerica I didn't today... Must mean I n...  \n",
       "3  @VirginAmerica it's really aggressive to blast...  \n",
       "4  @VirginAmerica and it's a really big bad thing...  "
      ]
     },
     "execution_count": 4,
     "metadata": {},
     "output_type": "execute_result"
    }
   ],
   "source": [
    "data = pd.read_csv('./sentiment_analysis.csv'\n",
    "                   , low_memory = False\n",
    "                   )\n",
    "data.head()"
   ]
  },
  {
   "cell_type": "code",
   "execution_count": 5,
   "metadata": {},
   "outputs": [
    {
     "data": {
      "text/plain": [
       "array(['Virgin America', 'United', 'Southwest', 'Delta', 'US Airways',\n",
       "       'American'], dtype=object)"
      ]
     },
     "execution_count": 5,
     "metadata": {},
     "output_type": "execute_result"
    }
   ],
   "source": [
    "data.airline.unique()"
   ]
  },
  {
   "cell_type": "code",
   "execution_count": 6,
   "metadata": {},
   "outputs": [
    {
     "data": {
      "text/plain": [
       "array(['neutral', 'positive', 'negative'], dtype=object)"
      ]
     },
     "execution_count": 6,
     "metadata": {},
     "output_type": "execute_result"
    }
   ],
   "source": [
    "data.airline_sentiment.unique()"
   ]
  },
  {
   "cell_type": "code",
   "execution_count": 7,
   "metadata": {},
   "outputs": [
    {
     "data": {
      "text/plain": [
       "<matplotlib.axes._subplots.AxesSubplot at 0x1cc30459898>"
      ]
     },
     "execution_count": 7,
     "metadata": {},
     "output_type": "execute_result"
    },
    {
     "data": {
      "image/png": "[encoded data removed]",
      "text/plain": [
       "<Figure size 432x288 with 1 Axes>"
      ]
     },
     "metadata": {
      "needs_background": "light"
     },
     "output_type": "display_data"
    }
   ],
   "source": [
    "data.groupby('airline_sentiment')['text'].count().plot('bar')"
   ]
  },
  {
   "cell_type": "code",
   "execution_count": 8,
   "metadata": {},
   "outputs": [
    {
     "data": {
      "text/html": [
       "<div>\n",
       "<style scoped>\n",
       "    .dataframe tbody tr th:only-of-type {\n",
       "        vertical-align: middle;\n",
       "    }\n",
       "\n",
       "    .dataframe tbody tr th {\n",
       "        vertical-align: top;\n",
       "    }\n",
       "\n",
       "    .dataframe thead th {\n",
       "        text-align: right;\n",
       "    }\n",
       "</style>\n",
       "<table border=\"1\" class=\"dataframe\">\n",
       "  <thead>\n",
       "    <tr style=\"text-align: right;\">\n",
       "      <th></th>\n",
       "      <th>airline_sentiment</th>\n",
       "      <th>text</th>\n",
       "    </tr>\n",
       "  </thead>\n",
       "  <tbody>\n",
       "    <tr>\n",
       "      <th>0</th>\n",
       "      <td>neutral</td>\n",
       "      <td>@VirginAmerica What @dhepburn said.</td>\n",
       "    </tr>\n",
       "    <tr>\n",
       "      <th>1</th>\n",
       "      <td>positive</td>\n",
       "      <td>@VirginAmerica plus you've added commercials t...</td>\n",
       "    </tr>\n",
       "    <tr>\n",
       "      <th>2</th>\n",
       "      <td>neutral</td>\n",
       "      <td>@VirginAmerica I didn't today... Must mean I n...</td>\n",
       "    </tr>\n",
       "    <tr>\n",
       "      <th>3</th>\n",
       "      <td>negative</td>\n",
       "      <td>@VirginAmerica it's really aggressive to blast...</td>\n",
       "    </tr>\n",
       "    <tr>\n",
       "      <th>4</th>\n",
       "      <td>negative</td>\n",
       "      <td>@VirginAmerica and it's a really big bad thing...</td>\n",
       "    </tr>\n",
       "  </tbody>\n",
       "</table>\n",
       "</div>"
      ],
      "text/plain": [
       "  airline_sentiment                                               text\n",
       "0           neutral                @VirginAmerica What @dhepburn said.\n",
       "1          positive  @VirginAmerica plus you've added commercials t...\n",
       "2           neutral  @VirginAmerica I didn't today... Must mean I n...\n",
       "3          negative  @VirginAmerica it's really aggressive to blast...\n",
       "4          negative  @VirginAmerica and it's a really big bad thing..."
      ]
     },
     "execution_count": 8,
     "metadata": {},
     "output_type": "execute_result"
    }
   ],
   "source": [
    "data = data[['airline_sentiment','text']]\n",
    "data.head()"
   ]
  },
  {
   "cell_type": "code",
   "execution_count": 9,
   "metadata": {},
   "outputs": [],
   "source": [
    "#TEXT CLEANING\n",
    "\n",
    "#Remove words starting with @ as they aree just references\n",
    "data['cleaned_text'] = data['text'].apply(lambda x: ' '.join(word for word in x.split(' ') if not word.startswith('@')))\n",
    "\n",
    "#Remove .\n",
    "data['cleaned_text'] = data['cleaned_text'].str.lower().replace('.','')\n",
    "\n",
    "#Remove Special Characters\n",
    "data['cleaned_text'] = data['cleaned_text'].str.replace('[^\\w\\s]','')"
   ]
  },
  {
   "cell_type": "code",
   "execution_count": 10,
   "metadata": {},
   "outputs": [
    {
     "data": {
      "text/plain": [
       "count    14640.000000\n",
       "mean        16.685587\n",
       "std          6.948965\n",
       "min          1.000000\n",
       "25%         11.000000\n",
       "50%         18.000000\n",
       "75%         22.000000\n",
       "max         35.000000\n",
       "Name: seq_length, dtype: float64"
      ]
     },
     "execution_count": 10,
     "metadata": {},
     "output_type": "execute_result"
    }
   ],
   "source": [
    "#Check length of sentences\n",
    "data['seq_length'] = data['cleaned_text'].apply(lambda x: len(str(x).split(\" \")))\n",
    "data.seq_length.describe()"
   ]
  },
  {
   "cell_type": "code",
   "execution_count": 11,
   "metadata": {},
   "outputs": [
    {
     "data": {
      "text/html": [
       "<div>\n",
       "<style scoped>\n",
       "    .dataframe tbody tr th:only-of-type {\n",
       "        vertical-align: middle;\n",
       "    }\n",
       "\n",
       "    .dataframe tbody tr th {\n",
       "        vertical-align: top;\n",
       "    }\n",
       "\n",
       "    .dataframe thead th {\n",
       "        text-align: right;\n",
       "    }\n",
       "</style>\n",
       "<table border=\"1\" class=\"dataframe\">\n",
       "  <thead>\n",
       "    <tr style=\"text-align: right;\">\n",
       "      <th></th>\n",
       "      <th>airline_sentiment</th>\n",
       "      <th>text</th>\n",
       "      <th>cleaned_text</th>\n",
       "      <th>seq_length</th>\n",
       "      <th>airline_sentiment_encoded</th>\n",
       "    </tr>\n",
       "  </thead>\n",
       "  <tbody>\n",
       "    <tr>\n",
       "      <th>0</th>\n",
       "      <td>neutral</td>\n",
       "      <td>@VirginAmerica What @dhepburn said.</td>\n",
       "      <td>what said</td>\n",
       "      <td>2</td>\n",
       "      <td>1</td>\n",
       "    </tr>\n",
       "    <tr>\n",
       "      <th>1</th>\n",
       "      <td>positive</td>\n",
       "      <td>@VirginAmerica plus you've added commercials t...</td>\n",
       "      <td>plus youve added commercials to the experience...</td>\n",
       "      <td>8</td>\n",
       "      <td>2</td>\n",
       "    </tr>\n",
       "    <tr>\n",
       "      <th>2</th>\n",
       "      <td>neutral</td>\n",
       "      <td>@VirginAmerica I didn't today... Must mean I n...</td>\n",
       "      <td>i didnt today must mean i need to take another...</td>\n",
       "      <td>11</td>\n",
       "      <td>1</td>\n",
       "    </tr>\n",
       "    <tr>\n",
       "      <th>3</th>\n",
       "      <td>negative</td>\n",
       "      <td>@VirginAmerica it's really aggressive to blast...</td>\n",
       "      <td>its really aggressive to blast obnoxious enter...</td>\n",
       "      <td>16</td>\n",
       "      <td>0</td>\n",
       "    </tr>\n",
       "    <tr>\n",
       "      <th>4</th>\n",
       "      <td>negative</td>\n",
       "      <td>@VirginAmerica and it's a really big bad thing...</td>\n",
       "      <td>and its a really big bad thing about it</td>\n",
       "      <td>9</td>\n",
       "      <td>0</td>\n",
       "    </tr>\n",
       "  </tbody>\n",
       "</table>\n",
       "</div>"
      ],
      "text/plain": [
       "  airline_sentiment                                               text  \\\n",
       "0           neutral                @VirginAmerica What @dhepburn said.   \n",
       "1          positive  @VirginAmerica plus you've added commercials t...   \n",
       "2           neutral  @VirginAmerica I didn't today... Must mean I n...   \n",
       "3          negative  @VirginAmerica it's really aggressive to blast...   \n",
       "4          negative  @VirginAmerica and it's a really big bad thing...   \n",
       "\n",
       "                                        cleaned_text  seq_length  \\\n",
       "0                                          what said           2   \n",
       "1  plus youve added commercials to the experience...           8   \n",
       "2  i didnt today must mean i need to take another...          11   \n",
       "3  its really aggressive to blast obnoxious enter...          16   \n",
       "4            and its a really big bad thing about it           9   \n",
       "\n",
       "   airline_sentiment_encoded  \n",
       "0                          1  \n",
       "1                          2  \n",
       "2                          1  \n",
       "3                          0  \n",
       "4                          0  "
      ]
     },
     "execution_count": 11,
     "metadata": {},
     "output_type": "execute_result"
    }
   ],
   "source": [
    "#Encode labels as numbers\n",
    "le = LabelEncoder()\n",
    "data['airline_sentiment_encoded'] = le.fit_transform( data['airline_sentiment'])\n",
    "data.head()"
   ]
  },
  {
   "cell_type": "code",
   "execution_count": 12,
   "metadata": {},
   "outputs": [
    {
     "data": {
      "text/plain": [
       "(14640, 5)"
      ]
     },
     "execution_count": 12,
     "metadata": {},
     "output_type": "execute_result"
    }
   ],
   "source": [
    "data.shape"
   ]
  },
  {
   "cell_type": "code",
   "execution_count": 13,
   "metadata": {},
   "outputs": [],
   "source": [
    "seq_length = 35 + 2 #Max sequence length + 2 for EOS and SOS tokens"
   ]
  },
  {
   "cell_type": "code",
   "execution_count": 14,
   "metadata": {},
   "outputs": [
    {
     "name": "stdout",
     "output_type": "stream",
     "text": [
      "CUDA available using GPU\n"
     ]
    }
   ],
   "source": [
    "if torch.cuda.is_available():\n",
    "    device = torch.device('cuda')\n",
    "    print('CUDA available using GPU')\n",
    "else :\n",
    "    device = torch.device('cpu')\n",
    "    print('CUDA NOT available using CPU')"
   ]
  },
  {
   "cell_type": "code",
   "execution_count": 15,
   "metadata": {},
   "outputs": [],
   "source": [
    "#Initialize tokenizer and pretrained BERT Model\n",
    "tokenizer = BertTokenizer.from_pretrained('bert-base-uncased')\n",
    "model = BertModel.from_pretrained('D:/Data_Science/Pre_trained_models/bert_x/', output_hidden_states = True)\n",
    "\n",
    "model = model.to(device)\n",
    "model = model.eval()"
   ]
  },
  {
   "cell_type": "code",
   "execution_count": 18,
   "metadata": {},
   "outputs": [
    {
     "data": {
      "text/plain": [
       "(14640, 768)"
      ]
     },
     "execution_count": 18,
     "metadata": {},
     "output_type": "execute_result"
    }
   ],
   "source": [
    "#Creta empty array to store embeddings\n",
    "embeddings_matrix = np.zeros((data.shape[0] , 768))\n",
    "embeddings_matrix.shape"
   ]
  },
  {
   "cell_type": "code",
   "execution_count": 20,
   "metadata": {},
   "outputs": [
    {
     "name": "stdout",
     "output_type": "stream",
     "text": [
      "index 0 / 14640 , 0.5504992008209229\n",
      "index 500 / 14640 , 40.85267448425293\n",
      "index 1000 / 14640 , 42.886271476745605\n",
      "index 1500 / 14640 , 43.57180690765381\n",
      "index 2000 / 14640 , 39.19056558609009\n",
      "index 2500 / 14640 , 39.47908329963684\n",
      "index 3000 / 14640 , 40.434908390045166\n",
      "index 3500 / 14640 , 43.80440902709961\n",
      "index 4000 / 14640 , 40.710588216781616\n",
      "index 4500 / 14640 , 41.40465021133423\n",
      "index 5000 / 14640 , 40.98237442970276\n",
      "index 5500 / 14640 , 41.164504289627075\n",
      "index 6000 / 14640 , 40.87564468383789\n",
      "index 6500 / 14640 , 39.460052728652954\n",
      "index 7000 / 14640 , 39.25316667556763\n",
      "index 7500 / 14640 , 39.026914834976196\n",
      "index 8000 / 14640 , 38.88314175605774\n",
      "index 8500 / 14640 , 39.45748949050903\n",
      "index 9000 / 14640 , 39.32285928726196\n",
      "index 9500 / 14640 , 40.3082857131958\n",
      "index 10000 / 14640 , 39.10597038269043\n",
      "index 10500 / 14640 , 39.45709776878357\n",
      "index 11000 / 14640 , 39.291104316711426\n",
      "index 11500 / 14640 , 38.947601318359375\n",
      "index 12000 / 14640 , 39.27588677406311\n",
      "index 12500 / 14640 , 39.390626430511475\n",
      "index 13000 / 14640 , 38.95126533508301\n",
      "index 13500 / 14640 , 39.79576063156128\n",
      "index 14000 / 14640 , 40.34936451911926\n",
      "index 14500 / 14640 , 41.9953887462616\n",
      "Saved matrix locally\n",
      "time taken to generate embeddings : 1180.4242565631866\n"
     ]
    }
   ],
   "source": [
    "#Get Sentence embeddings\n",
    "print_every =  500\n",
    "start_time_loop = time.time()\n",
    "time_list = []\n",
    "start_time = time.time()\n",
    "for i in data.index:\n",
    "    text = data.loc[i].cleaned_text\n",
    "    input_ids = torch.tensor(tokenizer.encode(text, add_special_tokens=True)[:seq_length]).unsqueeze(0)\n",
    "    outputs = model(input_ids.to(device))\n",
    "    last_layer = outputs[2][12][0][0]\n",
    "    layer_11 = outputs[2][11][0][0]\n",
    "    layer_10 = outputs[2][10][0][0]\n",
    "    layer_9 = outputs[2][9][0][0]\n",
    "\n",
    "    final_embedding = last_layer + layer_11 + layer_10 + layer_9 #SUm Pool of last 4 layers\n",
    "\n",
    "    embeddings_matrix[i]+=final_embedding.cpu().detach().numpy()\n",
    "\n",
    "    if i % print_every == 0 :\n",
    "        print('records done {} / {} , {}'.format(i , data.shape[0] , round(time.time() - start_time ,2))\n",
    "        time_list.append(time.time() - start_time)\n",
    "        start_time = time.time()\n",
    "\n",
    "try:\n",
    "    np.save('embeddings_matrix' , arr = embeddings_matrix , allow_pickle=True)\n",
    "    print('Saved matrix locally')\n",
    "except:\n",
    "    print('ERROR saving embeddings')\n",
    "print('time taken to generate embeddings : {}'.format(time.time() - start_time_loop))"
   ]
  },
  {
   "cell_type": "code",
   "execution_count": 21,
   "metadata": {},
   "outputs": [],
   "source": [
    "#Assign X, Y as features and Labels\n",
    "Y = data['airline_sentiment_encoded'].values\n",
    "X = embeddings_matrix\n",
    "x_train, x_val, y_train, y_val = train_test_split(X, Y, test_size=0.1, random_state=7)"
   ]
  },
  {
   "cell_type": "code",
   "execution_count": 23,
   "metadata": {},
   "outputs": [
    {
     "name": "stdout",
     "output_type": "stream",
     "text": [
      "torch.Size([13176, 768])\n",
      "<class 'torch.utils.data.dataset.TensorDataset'>\n",
      "<class 'torch.utils.data.dataloader.DataLoader'>\n"
     ]
    }
   ],
   "source": [
    "#Data Preprocessing for Neural Network Training \n",
    "batch_size = 32\n",
    "#Convert input data to tensors\n",
    "x_train_data_tensor = torch.tensor(x_train)\n",
    "y_train_data_tensor = torch.tensor(y_train)\n",
    "print(x_train_data_tensor.shape)\n",
    "\n",
    "#Convert tensors to type Dataset\n",
    "train_dataset = torch.utils.data.TensorDataset(x_train_data_tensor ,y_train_data_tensor)\n",
    "print(type(train_dataset))\n",
    "\n",
    "#Convert datsets to Dataloader for loading batches\n",
    "train_dataset = DataLoader(train_dataset, batch_size=batch_size, shuffle=True, num_workers=0)\n",
    "print(type(train_dataset))\n",
    "\n",
    "torch.save(train_dataset, 'train_dataset.dataloader')"
   ]
  },
  {
   "cell_type": "code",
   "execution_count": 25,
   "metadata": {},
   "outputs": [
    {
     "name": "stdout",
     "output_type": "stream",
     "text": [
      "torch.Size([1464, 768])\n",
      "<class 'torch.utils.data.dataset.TensorDataset'>\n",
      "<class 'torch.utils.data.dataloader.DataLoader'>\n"
     ]
    }
   ],
   "source": [
    "#Data Preprocessing for Neural Network Training \n",
    "#Convert input data to tensors\n",
    "x_val_data_tensor = torch.tensor(x_val)\n",
    "y_val_data_tensor = torch.tensor(y_val)\n",
    "print(x_val_data_tensor.shape)\n",
    "\n",
    "#Convert tensors to type Dataset\n",
    "val_dataset = torch.utils.data.TensorDataset(x_val_data_tensor ,y_val_data_tensor)\n",
    "print(type(val_dataset))\n",
    "\n",
    "#Convert datsets to Dataloader for loading batches\n",
    "val_dataset = DataLoader(val_dataset, batch_size=batch_size, shuffle=True, num_workers=0)\n",
    "print(type(val_dataset))\n",
    "\n",
    "torch.save(val_dataset, 'val_dataset.dataloader')"
   ]
  },
  {
   "cell_type": "code",
   "execution_count": 27,
   "metadata": {},
   "outputs": [],
   "source": [
    "#Define Network Dimensions\n",
    "output_size = len(le.classes_)\n",
    "batch_size = batch_size\n",
    "drop_out_probability = 0.5\n",
    "input_size = 768\n",
    "hidden_size = input_size"
   ]
  },
  {
   "cell_type": "code",
   "execution_count": 33,
   "metadata": {},
   "outputs": [
    {
     "data": {
      "text/plain": [
       "Classifier(\n",
       "  (fc1): Linear(in_features=768, out_features=768, bias=True)\n",
       "  (fc2): Linear(in_features=768, out_features=768, bias=True)\n",
       "  (dropout): Dropout(p=0.33)\n",
       "  (out): Linear(in_features=768, out_features=3, bias=True)\n",
       ")"
      ]
     },
     "execution_count": 33,
     "metadata": {},
     "output_type": "execute_result"
    }
   ],
   "source": [
    "#Define the Network\n",
    "class Classifier(nn.Module):\n",
    "    def __init__(self , input_size , hidden_size , output_size):\n",
    "        super(Classifier ,self).__init__()\n",
    "        \n",
    "        self.fc_input_size = input_size\n",
    "        self.fc_hidden_size = hidden_size\n",
    "        self.fc_output_size = output_size\n",
    "        \n",
    "        \n",
    "        # Inputs to hidden layer linear transformation\n",
    "        self.fc1 = nn.Linear(in_features = input_size , out_features = hidden_size)\n",
    "        self.fc2 = nn.Linear(in_features = input_size , out_features = hidden_size)\n",
    "        self.dropout = nn.Dropout(p = 0.33)\n",
    "        \n",
    "        # Output layer, 10 units - one for each digit\n",
    "        self.out = nn.Linear(in_features = hidden_size , out_features = output_size)\n",
    "        \n",
    "        \n",
    "    def forward(self,x):\n",
    "        \n",
    "        #Pass output of BERT through Fully connected layer\n",
    "        x = self.fc1(x)\n",
    "        x = torch.relu(x)\n",
    "        \n",
    "        x = self.dropout(x)\n",
    "\n",
    "        x = self.fc2(x)\n",
    "        x = torch.relu(x)\n",
    "        \n",
    "        #Output layer\n",
    "        x = self.out(x)\n",
    "        \n",
    "        return x\n",
    "    \n",
    "clf = Classifier(input_size = input_size \n",
    "                            , hidden_size = hidden_size \n",
    "                            , output_size = output_size )\n",
    "\n",
    "clf.double()"
   ]
  },
  {
   "cell_type": "code",
   "execution_count": 34,
   "metadata": {},
   "outputs": [
    {
     "name": "stdout",
     "output_type": "stream",
     "text": [
      "epoch : 0 \t batch number : 0 \t train loss : 1.121696582669562\n",
      "epoch : 0 \t batch number : 100 \t train loss : 0.7340377842726119\n",
      "epoch : 0 \t batch number : 200 \t train loss : 0.6638754755559932\n",
      "epoch : 0 \t batch number : 300 \t train loss : 0.6375386240421969\n",
      "epoch : 0 \t batch number : 400 \t train loss : 0.6133832880593144\n",
      "epoch : 0\t train_loss :0.6113594266015606\t validation loss : 0.5025532399247823\n",
      "epoch : 0 \t train loss : 0.46976694924031037 \t time required : 12.901922941207886\n",
      "\n",
      "epoch : 1 \t batch number : 0 \t train loss : 0.3637044660080371\n",
      "epoch : 1 \t batch number : 100 \t train loss : 0.5399056765853907\n",
      "epoch : 1 \t batch number : 200 \t train loss : 0.5306609592550124\n",
      "epoch : 1 \t batch number : 300 \t train loss : 0.5332867459199013\n",
      "epoch : 1 \t batch number : 400 \t train loss : 0.5275567465124432\n",
      "epoch : 1\t train_loss :0.5265842049646885\t validation loss : 0.506140205771871\n",
      "epoch : 1 \t train loss : 0.5870491502596444 \t time required : 11.889499425888062\n",
      "\n",
      "epoch : 2 \t batch number : 0 \t train loss : 0.5946132154728502\n",
      "epoch : 2 \t batch number : 100 \t train loss : 0.5157032984278169\n",
      "epoch : 2 \t batch number : 200 \t train loss : 0.5369150702429875\n",
      "epoch : 2 \t batch number : 300 \t train loss : 0.5284273239051213\n",
      "epoch : 2 \t batch number : 400 \t train loss : 0.5251517095897247\n",
      "epoch : 2\t train_loss :0.5243142837945537\t validation loss : 0.5033083016122408\n",
      "epoch : 2 \t train loss : 0.3425020833326673 \t time required : 11.485321998596191\n",
      "\n",
      "epoch : 3 \t batch number : 0 \t train loss : 0.35639977503590475\n",
      "epoch : 3 \t batch number : 100 \t train loss : 0.5124823037047646\n",
      "epoch : 3 \t batch number : 200 \t train loss : 0.5084279577905422\n",
      "epoch : 3 \t batch number : 300 \t train loss : 0.5131522328586663\n",
      "epoch : 3 \t batch number : 400 \t train loss : 0.5086922037279236\n",
      "patience_ctr : 1\n",
      "\n",
      "epoch : 3\t train_loss :0.509308504189263\t validation loss : 0.5149796727026332\n",
      "epoch : 3 \t train loss : 0.5547525728571727 \t time required : 11.584853649139404\n",
      "\n",
      "epoch : 4 \t batch number : 0 \t train loss : 0.43152479531140375\n",
      "epoch : 4 \t batch number : 100 \t train loss : 0.5057593420971227\n",
      "epoch : 4 \t batch number : 200 \t train loss : 0.4974054441232177\n",
      "epoch : 4 \t batch number : 300 \t train loss : 0.48773396693310583\n",
      "epoch : 4 \t batch number : 400 \t train loss : 0.48627687480602066\n",
      "patience_ctr : 2\n",
      "\n",
      "epoch : 4\t train_loss :0.4859530748876789\t validation loss : 0.5122040156180379\n",
      "epoch : 4 \t train loss : 0.6014987900382689 \t time required : 10.936453342437744\n",
      "\n",
      "epoch : 5 \t batch number : 0 \t train loss : 0.40046732628252496\n",
      "epoch : 5 \t batch number : 100 \t train loss : 0.5019805522950926\n",
      "epoch : 5 \t batch number : 200 \t train loss : 0.48936169280094954\n",
      "epoch : 5 \t batch number : 300 \t train loss : 0.4820667309289558\n",
      "epoch : 5 \t batch number : 400 \t train loss : 0.4819018868921163\n",
      "epoch : 5\t train_loss :0.48228393624294597\t validation loss : 0.47276420481366016\n",
      "epoch : 5 \t train loss : 0.4399811224956064 \t time required : 10.581703424453735\n",
      "\n",
      "epoch : 6 \t batch number : 0 \t train loss : 0.5335004901207203\n",
      "epoch : 6 \t batch number : 100 \t train loss : 0.47884335326343014\n",
      "epoch : 6 \t batch number : 200 \t train loss : 0.46367069840252\n",
      "epoch : 6 \t batch number : 300 \t train loss : 0.4710852402635214\n",
      "epoch : 6 \t batch number : 400 \t train loss : 0.47126915667848807\n",
      "patience_ctr : 1\n",
      "\n",
      "epoch : 6\t train_loss :0.4707394489888493\t validation loss : 0.513746989568386\n",
      "epoch : 6 \t train loss : 0.6986357734778746 \t time required : 11.335440635681152\n",
      "\n",
      "epoch : 7 \t batch number : 0 \t train loss : 0.27202716185786957\n",
      "epoch : 7 \t batch number : 100 \t train loss : 0.4718434771297353\n",
      "epoch : 7 \t batch number : 200 \t train loss : 0.4522226363141293\n",
      "epoch : 7 \t batch number : 300 \t train loss : 0.4560062347540866\n",
      "epoch : 7 \t batch number : 400 \t train loss : 0.46143860881117804\n",
      "patience_ctr : 2\n",
      "\n",
      "epoch : 7\t train_loss :0.4637037030413989\t validation loss : 0.5302462896291199\n",
      "epoch : 7 \t train loss : 0.46457758173392716 \t time required : 10.992602586746216\n",
      "\n",
      "epoch : 8 \t batch number : 0 \t train loss : 0.6779604832596554\n",
      "epoch : 8 \t batch number : 100 \t train loss : 0.45850358881422043\n",
      "epoch : 8 \t batch number : 200 \t train loss : 0.45788990739347113\n",
      "epoch : 8 \t batch number : 300 \t train loss : 0.4567303751848339\n",
      "epoch : 8 \t batch number : 400 \t train loss : 0.4582352296299287\n",
      "patience_ctr : 3\n",
      "\n",
      "early stoppping since valid_loss > train_loss\n"
     ]
    }
   ],
   "source": [
    "#Training Loops\n",
    "epochs = 10\n",
    "loss_fn = F.cross_entropy\n",
    "\n",
    "learning_rate = 0.001\n",
    "\n",
    "optimizer = torch.optim.Adam(clf.parameters(), lr = learning_rate)\n",
    "print_every = 100\n",
    "clf.to(device)\n",
    "\n",
    "\n",
    "# to track the average training loss per epoch as the model trains\n",
    "avg_train_losses = []\n",
    "# to track the average validation loss per epoch as the model trains\n",
    "avg_valid_losses = [] \n",
    "patience_ctr = 0\n",
    "patience = 3\n",
    "    \n",
    "for epoch in range(0,epochs):\n",
    "    \n",
    "    # to track the training loss as the model trains\n",
    "    train_losses = []\n",
    "    # to track the validation loss as the model trains\n",
    "    valid_losses = []\n",
    "\n",
    "    batch = 0\n",
    "    #loss = 0\n",
    "    start_time = time.time()\n",
    "    clf.train()\n",
    "    for i in train_dataset:\n",
    "        x, y = next(iter(train_dataset))\n",
    "        x = x.to(device)\n",
    "        y = y.long().to(device)\n",
    "        \n",
    "        optimizer.zero_grad() #remove previous gradients\n",
    "        y_pred = clf(x)\n",
    "        \n",
    "        #y_pred = y_pred.unsqueeze(0)\n",
    "        loss = loss_fn(y_pred , y)\n",
    "\n",
    "        loss.backward() #backpropogate loss\n",
    "        optimizer.step()\n",
    "        \n",
    "        train_losses.append(loss.item())\n",
    "        \n",
    "        if (batch % print_every == 0):\n",
    "            print('epoch : {} \\t batch number : {} \\t train loss : {}'.format(epoch, batch,np.average(train_losses)))\n",
    "            \n",
    "        batch +=1\n",
    "\n",
    "        #Calculate Validation loss\n",
    "    val_acc = 0\n",
    "    clf = clf.eval() #set Network to evaluate\n",
    "    for j in val_dataset :\n",
    "        x_v, y_v = next(iter(val_dataset))\n",
    "        x_v = x_v.to(device)\n",
    "        y_v = y_v.long().to(device)\n",
    "        \n",
    "        y_pred = clf(x_v)\n",
    "        loss = loss_fn(y_pred , y_v)\n",
    "        \n",
    "        valid_losses.append(loss.item())\n",
    "    \n",
    "    # calculate average loss over an epoch\n",
    "    train_loss = np.average(train_losses)\n",
    "    valid_loss = np.average(valid_losses)\n",
    "    avg_train_losses.append(train_loss)\n",
    "    avg_valid_losses.append(valid_loss)\n",
    "\n",
    "    #Early stopping\n",
    "    if valid_loss > train_loss:\n",
    "        patience_ctr +=1\n",
    "        print('patience_ctr : {}\\n'.format(patience_ctr))\n",
    "        if patience_ctr >= patience:\n",
    "            print('early stoppping since valid_loss > train_loss')\n",
    "            break\n",
    "    else :\n",
    "        patience_ctr = 0\n",
    "    \n",
    "    epoch_len = len(str(epochs))\n",
    "    print('epoch : {}\\t train_loss :{}\\t validation loss : {}'.format(epoch , train_loss , valid_loss))\n",
    "    \n",
    "            \n",
    "    print('epoch : {} \\t train loss : {} \\t time required : {}\\n'.format(epoch, loss.item(),(time.time() - start_time)))"
   ]
  },
  {
   "cell_type": "code",
   "execution_count": 44,
   "metadata": {},
   "outputs": [
    {
     "name": "stderr",
     "output_type": "stream",
     "text": [
      "c:\\python\\python37\\lib\\site-packages\\ipykernel_launcher.py:13: UserWarning: Implicit dimension choice for softmax has been deprecated. Change the call to include dim=X as an argument.\n",
      "  del sys.path[0]\n"
     ]
    },
    {
     "name": "stdout",
     "output_type": "stream",
     "text": [
      "10\n",
      "20\n",
      "30\n",
      "40\n",
      "time taken for prediction :0.5935592651367188 seconds\n"
     ]
    }
   ],
   "source": [
    "#Predict on Evaluation set\n",
    "st_time = time.time()\n",
    "ctr = 0\n",
    "print_every = 10\n",
    "clf = clf.double()\n",
    "clf = clf.to(device)\n",
    "clf = clf.eval()\n",
    "for j in val_dataset :\n",
    "    x_v, y_v = next(iter(val_dataset))\n",
    "    x_v = x_v.to(device)\n",
    "    #y_v = y_v.to(device)\n",
    "   \n",
    "    op = clf(x_v)\n",
    "    op = torch.argmax(F.softmax(op), dim = 1)\n",
    "    if ctr == 0:\n",
    "        y_pred = op\n",
    "        y_actual = y_v\n",
    "    else:\n",
    "        y_pred = torch.cat((y_pred , op))\n",
    "        y_actual = torch.cat((y_actual , y_v))\n",
    "   \n",
    "    ctr += 1\n",
    "   \n",
    "    if ctr % print_every == 0:\n",
    "        print(ctr)\n",
    "print('time taken for prediction :{} seconds'.format(time.time() - st_time ))"
   ]
  },
  {
   "cell_type": "code",
   "execution_count": 45,
   "metadata": {},
   "outputs": [
    {
     "name": "stdout",
     "output_type": "stream",
     "text": [
      "              precision    recall  f1-score   support\n",
      "\n",
      "           0       0.63      0.68      0.65       916\n",
      "           1       0.22      0.18      0.20       312\n",
      "           2       0.15      0.14      0.15       236\n",
      "\n",
      "    accuracy                           0.49      1464\n",
      "   macro avg       0.33      0.33      0.33      1464\n",
      "weighted avg       0.47      0.49      0.48      1464\n",
      "\n",
      "accuracy : 0.4870218579234973\n"
     ]
    },
    {
     "data": {
      "image/png": "[encoded data removed]",
      "text/plain": [
       "<Figure size 432x288 with 2 Axes>"
      ]
     },
     "metadata": {
      "needs_background": "light"
     },
     "output_type": "display_data"
    }
   ],
   "source": [
    "#Display classification metrics\n",
    "y_actual = y_val\n",
    "y_pred = y_pred[:y_actual.shape[0]].cpu().detach().numpy()\n",
    "my_classification_report(y_actual = y_actual , y_predicted = y_pred)"
   ]
  },
  {
   "cell_type": "code",
   "execution_count": 41,
   "metadata": {},
   "outputs": [
    {
     "data": {
      "text/plain": [
       "(1464,)"
      ]
     },
     "execution_count": 41,
     "metadata": {},
     "output_type": "execute_result"
    }
   ],
   "source": [
    "y_val.shape"
   ]
  },
  {
   "cell_type": "code",
   "execution_count": 42,
   "metadata": {},
   "outputs": [
    {
     "data": {
      "text/plain": [
       "(1472,)"
      ]
     },
     "execution_count": 42,
     "metadata": {},
     "output_type": "execute_result"
    }
   ],
   "source": [
    "y_pred.shape"
   ]
  },
  {
   "cell_type": "code",
   "execution_count": null,
   "metadata": {},
   "outputs": [],
   "source": []
  }
 ],
 "metadata": {
  "kernelspec": {
   "display_name": "Python 3",
   "language": "python",
   "name": "python3"
  },
  "language_info": {
   "codemirror_mode": {
    "name": "ipython",
    "version": 3
   },
   "file_extension": ".py",
   "mimetype": "text/x-python",
   "name": "python",
   "nbconvert_exporter": "python",
   "pygments_lexer": "ipython3",
   "version": "3.7.3"
  }
 },
 "nbformat": 4,
 "nbformat_minor": 2
}
