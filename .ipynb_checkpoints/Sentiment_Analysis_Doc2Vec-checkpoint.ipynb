{
 "cells": [
  {
   "cell_type": "code",
   "execution_count": 270,
   "metadata": {},
   "outputs": [],
   "source": [
    "import time\n",
    "import os\n",
    "import sys\n",
    "import pickle\n",
    "import math\n",
    "\n",
    "import re\n",
    "\n",
    "import pandas as pd\n",
    "import numpy as np\n",
    "import matplotlib.pyplot as plt\n",
    "import seaborn as sns\n",
    "\n",
    "import nltk\n",
    "from nltk.corpus import stopwords\n",
    "stop = stopwords.words('english')\n",
    "\n",
    "from nltk.tokenize import word_tokenize\n",
    "from gensim.models.doc2vec import Doc2Vec, TaggedDocument\n",
    "\n",
    "from sklearn.preprocessing import LabelEncoder\n",
    "from sklearn.model_selection import train_test_split\n",
    "from sklearn.utils import shuffle\n",
    "from sklearn.metrics import classification_report , accuracy_score , confusion_matrix , precision_score , f1_score\n",
    "\n",
    "from skopt.space import Real, Categorical, Integer\n",
    "from skopt import forest_minimize, gbrt_minimize, gp_minimize\n",
    "from skopt.callbacks import DeltaYStopper\n",
    "from skopt.utils import use_named_args\n",
    "\n",
    "import torch\n",
    "import torch.nn as nn\n",
    "import torch.nn.functional as F\n",
    "import torchvision.datasets as Dataset\n",
    "import torch.autograd as autograd\n",
    "from torch.utils.data import Dataset, DataLoader\n",
    "import torchvision\n",
    "\n",
    "import xgboost as xgb\n",
    "\n",
    "%matplotlib inline"
   ]
  },
  {
   "cell_type": "code",
   "execution_count": 244,
   "metadata": {},
   "outputs": [],
   "source": [
    "import linecache\n",
    "import pprint\n",
    "\n",
    "def PrintException():\n",
    "    \"\"\"\n",
    "    Description : \n",
    "    - This function throws error without breaking the code. \n",
    "    - To be used for displaing errors in try-except blocks\n",
    "    - Doesnot take any argument nor return anything\n",
    "    \"\"\"\n",
    "    \n",
    "    exc_type, exc_obj, tb = sys.exc_info()\n",
    "    f = tb.tb_frame\n",
    "    lineno = tb.tb_lineno\n",
    "    filename = f.f_code.co_filename\n",
    "    linecache.checkcache(filename)\n",
    "    line = linecache.getline(filename, lineno, f.f_globals)\n",
    "    print ('EXCEPTION IN ({}, LINE {} \"{}\"): {}'.format(filename, lineno, line.strip(), exc_obj))\n",
    "    return"
   ]
  },
  {
   "cell_type": "code",
   "execution_count": 245,
   "metadata": {},
   "outputs": [],
   "source": [
    "def my_classification_report(y_actual , y_predicted):\n",
    "    \n",
    "    \"\"\"\n",
    "    Description : \n",
    "    - This function takes precdicted and actual values and gives key classification metrics\n",
    "    \n",
    "    Inputs:\n",
    "    1. y_actual : Array of actual labels\n",
    "    2. y_pred :  Array of predicted labels\n",
    "    \n",
    "    Outputs:\n",
    "    1. Prescision , ecall, F1-Score and Accuracy metrics\n",
    "    2. Plot of confusion matrix\n",
    "    \"\"\"\n",
    "    \n",
    "    print(classification_report(y_actual, y_pred))\n",
    "    acc = accuracy_score(y_actual , y_predicted)\n",
    "    print('accuracy : {}'.format(acc))\n",
    "   \n",
    "    conf_mat=confusion_matrix(y_actual, y_pred)\n",
    "    #print(conf_mat)\n",
    "    #plt.figure(figsize=(20,20))\n",
    "    ax = plt.subplot()\n",
    "    sns.heatmap(conf_mat, annot=True, ax = ax); #annot=True to annotate cells\n",
    "\n",
    "    # labels, title and ticks\n",
    "    ax.set_xlabel('Predicted labels')\n",
    "    ax.set_ylabel('True labels')\n",
    "    ax.set_title('Confusion Matrix')\n",
    "    ax.xaxis.set_ticklabels(le.classes_)\n",
    "    ax.yaxis.set_ticklabels(le.classes_)\n",
    "    plt.xticks(rotation=90)\n",
    "    plt.yticks(rotation=0)\n",
    "    #plt.savefig('conf_matrix.png')\n",
    "    plt.show()"
   ]
  },
  {
   "cell_type": "code",
   "execution_count": 312,
   "metadata": {},
   "outputs": [
    {
     "data": {
      "text/html": [
       "<div>\n",
       "<style scoped>\n",
       "    .dataframe tbody tr th:only-of-type {\n",
       "        vertical-align: middle;\n",
       "    }\n",
       "\n",
       "    .dataframe tbody tr th {\n",
       "        vertical-align: top;\n",
       "    }\n",
       "\n",
       "    .dataframe thead th {\n",
       "        text-align: right;\n",
       "    }\n",
       "</style>\n",
       "<table border=\"1\" class=\"dataframe\">\n",
       "  <thead>\n",
       "    <tr style=\"text-align: right;\">\n",
       "      <th></th>\n",
       "      <th>airline_sentiment</th>\n",
       "      <th>airline</th>\n",
       "      <th>text</th>\n",
       "    </tr>\n",
       "  </thead>\n",
       "  <tbody>\n",
       "    <tr>\n",
       "      <th>0</th>\n",
       "      <td>neutral</td>\n",
       "      <td>Virgin America</td>\n",
       "      <td>@VirginAmerica What @dhepburn said.</td>\n",
       "    </tr>\n",
       "    <tr>\n",
       "      <th>1</th>\n",
       "      <td>positive</td>\n",
       "      <td>Virgin America</td>\n",
       "      <td>@VirginAmerica plus you've added commercials t...</td>\n",
       "    </tr>\n",
       "    <tr>\n",
       "      <th>2</th>\n",
       "      <td>neutral</td>\n",
       "      <td>Virgin America</td>\n",
       "      <td>@VirginAmerica I didn't today... Must mean I n...</td>\n",
       "    </tr>\n",
       "    <tr>\n",
       "      <th>3</th>\n",
       "      <td>negative</td>\n",
       "      <td>Virgin America</td>\n",
       "      <td>@VirginAmerica it's really aggressive to blast...</td>\n",
       "    </tr>\n",
       "    <tr>\n",
       "      <th>4</th>\n",
       "      <td>negative</td>\n",
       "      <td>Virgin America</td>\n",
       "      <td>@VirginAmerica and it's a really big bad thing...</td>\n",
       "    </tr>\n",
       "  </tbody>\n",
       "</table>\n",
       "</div>"
      ],
      "text/plain": [
       "  airline_sentiment         airline  \\\n",
       "0           neutral  Virgin America   \n",
       "1          positive  Virgin America   \n",
       "2           neutral  Virgin America   \n",
       "3          negative  Virgin America   \n",
       "4          negative  Virgin America   \n",
       "\n",
       "                                                text  \n",
       "0                @VirginAmerica What @dhepburn said.  \n",
       "1  @VirginAmerica plus you've added commercials t...  \n",
       "2  @VirginAmerica I didn't today... Must mean I n...  \n",
       "3  @VirginAmerica it's really aggressive to blast...  \n",
       "4  @VirginAmerica and it's a really big bad thing...  "
      ]
     },
     "execution_count": 312,
     "metadata": {},
     "output_type": "execute_result"
    }
   ],
   "source": [
    "data = pd.read_csv('./sentiment_analysis.csv'\n",
    "                   , low_memory = False\n",
    "                   )\n",
    "data.head()"
   ]
  },
  {
   "cell_type": "code",
   "execution_count": 313,
   "metadata": {},
   "outputs": [
    {
     "data": {
      "text/plain": [
       "array(['Virgin America', 'United', 'Southwest', 'Delta', 'US Airways',\n",
       "       'American'], dtype=object)"
      ]
     },
     "execution_count": 313,
     "metadata": {},
     "output_type": "execute_result"
    }
   ],
   "source": [
    "data.airline.unique()"
   ]
  },
  {
   "cell_type": "code",
   "execution_count": 314,
   "metadata": {},
   "outputs": [
    {
     "data": {
      "text/plain": [
       "array(['neutral', 'positive', 'negative'], dtype=object)"
      ]
     },
     "execution_count": 314,
     "metadata": {},
     "output_type": "execute_result"
    }
   ],
   "source": [
    "data.airline_sentiment.unique()"
   ]
  },
  {
   "cell_type": "code",
   "execution_count": 315,
   "metadata": {},
   "outputs": [
    {
     "data": {
      "text/plain": [
       "<matplotlib.axes._subplots.AxesSubplot at 0x20edd3b9048>"
      ]
     },
     "execution_count": 315,
     "metadata": {},
     "output_type": "execute_result"
    },
    {
     "data": {
      "image/png": "[encoded data removed]",
      "text/plain": [
       "<Figure size 432x288 with 1 Axes>"
      ]
     },
     "metadata": {
      "needs_background": "light"
     },
     "output_type": "display_data"
    }
   ],
   "source": [
    "data.groupby('airline_sentiment')['text'].count().plot('bar')"
   ]
  },
  {
   "cell_type": "code",
   "execution_count": 317,
   "metadata": {},
   "outputs": [
    {
     "data": {
      "text/html": [
       "<div>\n",
       "<style scoped>\n",
       "    .dataframe tbody tr th:only-of-type {\n",
       "        vertical-align: middle;\n",
       "    }\n",
       "\n",
       "    .dataframe tbody tr th {\n",
       "        vertical-align: top;\n",
       "    }\n",
       "\n",
       "    .dataframe thead th {\n",
       "        text-align: right;\n",
       "    }\n",
       "</style>\n",
       "<table border=\"1\" class=\"dataframe\">\n",
       "  <thead>\n",
       "    <tr style=\"text-align: right;\">\n",
       "      <th></th>\n",
       "      <th>airline_sentiment</th>\n",
       "      <th>text</th>\n",
       "    </tr>\n",
       "  </thead>\n",
       "  <tbody>\n",
       "    <tr>\n",
       "      <th>0</th>\n",
       "      <td>neutral</td>\n",
       "      <td>@VirginAmerica What @dhepburn said.</td>\n",
       "    </tr>\n",
       "    <tr>\n",
       "      <th>1</th>\n",
       "      <td>positive</td>\n",
       "      <td>@VirginAmerica plus you've added commercials t...</td>\n",
       "    </tr>\n",
       "    <tr>\n",
       "      <th>2</th>\n",
       "      <td>neutral</td>\n",
       "      <td>@VirginAmerica I didn't today... Must mean I n...</td>\n",
       "    </tr>\n",
       "    <tr>\n",
       "      <th>3</th>\n",
       "      <td>negative</td>\n",
       "      <td>@VirginAmerica it's really aggressive to blast...</td>\n",
       "    </tr>\n",
       "    <tr>\n",
       "      <th>4</th>\n",
       "      <td>negative</td>\n",
       "      <td>@VirginAmerica and it's a really big bad thing...</td>\n",
       "    </tr>\n",
       "  </tbody>\n",
       "</table>\n",
       "</div>"
      ],
      "text/plain": [
       "  airline_sentiment                                               text\n",
       "0           neutral                @VirginAmerica What @dhepburn said.\n",
       "1          positive  @VirginAmerica plus you've added commercials t...\n",
       "2           neutral  @VirginAmerica I didn't today... Must mean I n...\n",
       "3          negative  @VirginAmerica it's really aggressive to blast...\n",
       "4          negative  @VirginAmerica and it's a really big bad thing..."
      ]
     },
     "execution_count": 317,
     "metadata": {},
     "output_type": "execute_result"
    }
   ],
   "source": [
    "data = data[['airline_sentiment','text']]\n",
    "data.head()"
   ]
  },
  {
   "cell_type": "code",
   "execution_count": 318,
   "metadata": {},
   "outputs": [],
   "source": [
    "#TEXT CLEANING\n",
    "\n",
    "#Remove words starting with @ as they aree just references\n",
    "data['cleaned_text'] = data['text'].apply(lambda x: ' '.join(word for word in x.split(' ') if not word.startswith('@')))\n",
    "\n",
    "#Remove .\n",
    "data['cleaned_text'] = data['cleaned_text'].str.lower().replace('.','')\n",
    "\n",
    "#Remove Special Characters\n",
    "data['cleaned_text'] = data['cleaned_text'].str.replace('[^\\w\\s]','')"
   ]
  },
  {
   "cell_type": "code",
   "execution_count": 319,
   "metadata": {},
   "outputs": [
    {
     "data": {
      "text/html": [
       "<div>\n",
       "<style scoped>\n",
       "    .dataframe tbody tr th:only-of-type {\n",
       "        vertical-align: middle;\n",
       "    }\n",
       "\n",
       "    .dataframe tbody tr th {\n",
       "        vertical-align: top;\n",
       "    }\n",
       "\n",
       "    .dataframe thead th {\n",
       "        text-align: right;\n",
       "    }\n",
       "</style>\n",
       "<table border=\"1\" class=\"dataframe\">\n",
       "  <thead>\n",
       "    <tr style=\"text-align: right;\">\n",
       "      <th></th>\n",
       "      <th>airline_sentiment</th>\n",
       "      <th>text</th>\n",
       "      <th>cleaned_text</th>\n",
       "      <th>airline_sentiment_encoded</th>\n",
       "    </tr>\n",
       "  </thead>\n",
       "  <tbody>\n",
       "    <tr>\n",
       "      <th>0</th>\n",
       "      <td>neutral</td>\n",
       "      <td>@VirginAmerica What @dhepburn said.</td>\n",
       "      <td>what said</td>\n",
       "      <td>1</td>\n",
       "    </tr>\n",
       "    <tr>\n",
       "      <th>1</th>\n",
       "      <td>positive</td>\n",
       "      <td>@VirginAmerica plus you've added commercials t...</td>\n",
       "      <td>plus youve added commercials to the experience...</td>\n",
       "      <td>2</td>\n",
       "    </tr>\n",
       "    <tr>\n",
       "      <th>2</th>\n",
       "      <td>neutral</td>\n",
       "      <td>@VirginAmerica I didn't today... Must mean I n...</td>\n",
       "      <td>i didnt today must mean i need to take another...</td>\n",
       "      <td>1</td>\n",
       "    </tr>\n",
       "    <tr>\n",
       "      <th>3</th>\n",
       "      <td>negative</td>\n",
       "      <td>@VirginAmerica it's really aggressive to blast...</td>\n",
       "      <td>its really aggressive to blast obnoxious enter...</td>\n",
       "      <td>0</td>\n",
       "    </tr>\n",
       "    <tr>\n",
       "      <th>4</th>\n",
       "      <td>negative</td>\n",
       "      <td>@VirginAmerica and it's a really big bad thing...</td>\n",
       "      <td>and its a really big bad thing about it</td>\n",
       "      <td>0</td>\n",
       "    </tr>\n",
       "  </tbody>\n",
       "</table>\n",
       "</div>"
      ],
      "text/plain": [
       "  airline_sentiment                                               text  \\\n",
       "0           neutral                @VirginAmerica What @dhepburn said.   \n",
       "1          positive  @VirginAmerica plus you've added commercials t...   \n",
       "2           neutral  @VirginAmerica I didn't today... Must mean I n...   \n",
       "3          negative  @VirginAmerica it's really aggressive to blast...   \n",
       "4          negative  @VirginAmerica and it's a really big bad thing...   \n",
       "\n",
       "                                        cleaned_text  \\\n",
       "0                                          what said   \n",
       "1  plus youve added commercials to the experience...   \n",
       "2  i didnt today must mean i need to take another...   \n",
       "3  its really aggressive to blast obnoxious enter...   \n",
       "4            and its a really big bad thing about it   \n",
       "\n",
       "   airline_sentiment_encoded  \n",
       "0                          1  \n",
       "1                          2  \n",
       "2                          1  \n",
       "3                          0  \n",
       "4                          0  "
      ]
     },
     "execution_count": 319,
     "metadata": {},
     "output_type": "execute_result"
    }
   ],
   "source": [
    "#Encode Labels as numbers\n",
    "le = LabelEncoder()\n",
    "data['airline_sentiment_encoded'] = le.fit_transform( data['airline_sentiment'])\n",
    "data.head()"
   ]
  },
  {
   "cell_type": "code",
   "execution_count": 321,
   "metadata": {},
   "outputs": [
    {
     "data": {
      "text/plain": [
       "array(['what said',\n",
       "       'plus youve added commercials to the experience tacky'],\n",
       "      dtype=object)"
      ]
     },
     "execution_count": 321,
     "metadata": {},
     "output_type": "execute_result"
    }
   ],
   "source": [
    "#building Sentence Corpus\n",
    "sentence_list = data.cleaned_text.values\n",
    "sentence_list[0:2]"
   ]
  },
  {
   "cell_type": "code",
   "execution_count": 322,
   "metadata": {},
   "outputs": [],
   "source": [
    "tagged_data = [TaggedDocument(words=word_tokenize(_d.lower()), tags=[str(i)]) for i, _d in enumerate(sentence_list)]"
   ]
  },
  {
   "cell_type": "code",
   "execution_count": 323,
   "metadata": {},
   "outputs": [],
   "source": [
    "#Training Doc2Vec\n",
    "max_epochs = 25\n",
    "vec_size = 128\n",
    "\n",
    "model = Doc2Vec(vector_size=vec_size,\n",
    "                min_count=3,\n",
    "                epochs = max_epochs)\n",
    "  \n",
    "model.build_vocab(tagged_data)\n",
    "model.train(tagged_data, total_examples=model.corpus_count, epochs=model.epochs)"
   ]
  },
  {
   "cell_type": "code",
   "execution_count": 324,
   "metadata": {},
   "outputs": [
    {
     "data": {
      "text/plain": [
       "(14640, 128)"
      ]
     },
     "execution_count": 324,
     "metadata": {},
     "output_type": "execute_result"
    }
   ],
   "source": [
    "#Creta empty array to store embeddings\n",
    "sentence_embeddings = np.zeros((data.shape[0] , vec_size))\n",
    "sentence_embeddings.shape"
   ]
  },
  {
   "cell_type": "code",
   "execution_count": 325,
   "metadata": {},
   "outputs": [
    {
     "name": "stdout",
     "output_type": "stream",
     "text": [
      "records done 1000\t in 0.69 secs\n",
      "records done 2000\t in 0.73 secs\n",
      "records done 3000\t in 0.78 secs\n",
      "records done 4000\t in 0.65 secs\n",
      "records done 5000\t in 0.58 secs\n",
      "records done 6000\t in 0.56 secs\n",
      "records done 7000\t in 0.65 secs\n",
      "records done 8000\t in 0.66 secs\n",
      "records done 9000\t in 0.59 secs\n",
      "records done 10000\t in 0.71 secs\n",
      "records done 11000\t in 0.56 secs\n",
      "records done 12000\t in 0.62 secs\n",
      "records done 13000\t in 0.68 secs\n",
      "records done 14000\t in 0.76 secs\n"
     ]
    }
   ],
   "source": [
    "#Generate Embeddings\n",
    "idx = 0\n",
    "st_time = time.time()\n",
    "print_every = 1000\n",
    "for sentence in data.cleaned_text :\n",
    "    sentence_embeddings[idx]+=model.infer_vector([sentence])\n",
    "    idx+=1\n",
    "    if idx % print_every == 0:\n",
    "        print('records done {}\\t in {} secs'.format(idx , round(time.time() - st_time , 2)))\n",
    "        st_time = time.time()"
   ]
  },
  {
   "cell_type": "code",
   "execution_count": 326,
   "metadata": {},
   "outputs": [],
   "source": [
    "#Assign X, Y as features and Labels\n",
    "Y = data['airline_sentiment_encoded']\n",
    "X = sentence_embeddings\n",
    "x_train, x_val, y_train, y_val = train_test_split(X, Y, test_size=0.1, random_state=7)"
   ]
  },
  {
   "cell_type": "code",
   "execution_count": 328,
   "metadata": {},
   "outputs": [
    {
     "name": "stdout",
     "output_type": "stream",
     "text": [
      "CUDA available using GPU\n"
     ]
    }
   ],
   "source": [
    "if torch.cuda.is_available():\n",
    "    device = torch.device('cuda')\n",
    "    print('CUDA available using GPU')\n",
    "else :\n",
    "    device = torch.device('cpu')\n",
    "    print('CUDA NOT available using CPU')"
   ]
  },
  {
   "cell_type": "code",
   "execution_count": 329,
   "metadata": {},
   "outputs": [
    {
     "name": "stdout",
     "output_type": "stream",
     "text": [
      "torch.Size([13176, 128])\n",
      "<class 'torch.utils.data.dataset.TensorDataset'>\n",
      "<class 'torch.utils.data.dataloader.DataLoader'>\n"
     ]
    }
   ],
   "source": [
    "#Data Preprocessing for Neural Network Training\n",
    "batch_size = 32\n",
    "#Convert input data to tensors\n",
    "x_train_data_tensor = torch.tensor(x_train)\n",
    "y_train_data_tensor = torch.tensor(y_train.values)\n",
    "print(x_train_data_tensor.shape)\n",
    "\n",
    "#Convert tensors to type Dataset\n",
    "train_dataset = torch.utils.data.TensorDataset(x_train_data_tensor ,y_train_data_tensor)\n",
    "print(type(train_dataset))\n",
    "\n",
    "#Convert datsets to Dataloader for loading batches\n",
    "train_dataset = DataLoader(train_dataset, batch_size=batch_size, shuffle=True, num_workers=0)\n",
    "print(type(train_dataset))\n",
    "\n",
    "torch.save(train_dataset, 'train_dataset.dataloader')"
   ]
  },
  {
   "cell_type": "code",
   "execution_count": 330,
   "metadata": {},
   "outputs": [
    {
     "name": "stdout",
     "output_type": "stream",
     "text": [
      "torch.Size([1464, 128])\n",
      "<class 'torch.utils.data.dataset.TensorDataset'>\n",
      "<class 'torch.utils.data.dataloader.DataLoader'>\n"
     ]
    }
   ],
   "source": [
    "#Data Preprocessing for Neural Network Training\n",
    "#Convert input data to tensors\n",
    "x_val_data_tensor = torch.tensor(x_val)\n",
    "y_val_data_tensor = torch.tensor(y_val.values)\n",
    "print(x_val_data_tensor.shape)\n",
    "\n",
    "#Convert tensors to type Dataset\n",
    "val_dataset = torch.utils.data.TensorDataset(x_val_data_tensor ,y_val_data_tensor)\n",
    "print(type(val_dataset))\n",
    "\n",
    "#Convert datsets to Dataloader for loading batches\n",
    "val_dataset = DataLoader(val_dataset, batch_size=batch_size, shuffle=True, num_workers=0)\n",
    "print(type(val_dataset))\n",
    "\n",
    "torch.save(val_dataset, 'val_dataset.dataloader')"
   ]
  },
  {
   "cell_type": "code",
   "execution_count": 331,
   "metadata": {},
   "outputs": [],
   "source": [
    "#Define Network Dimensions\n",
    "output_size = len(le.classes_)\n",
    "batch_size = batch_size\n",
    "drop_out_probability = 0.5\n",
    "input_size = vec_size\n",
    "hidden_size = input_size"
   ]
  },
  {
   "cell_type": "code",
   "execution_count": 332,
   "metadata": {},
   "outputs": [
    {
     "data": {
      "text/plain": [
       "Classifier(\n",
       "  (fc1): Linear(in_features=128, out_features=128, bias=True)\n",
       "  (fc2): Linear(in_features=128, out_features=128, bias=True)\n",
       "  (dropout): Dropout(p=0.33)\n",
       "  (out): Linear(in_features=128, out_features=3, bias=True)\n",
       ")"
      ]
     },
     "execution_count": 332,
     "metadata": {},
     "output_type": "execute_result"
    }
   ],
   "source": [
    "#Define the Network\n",
    "class Classifier(nn.Module):\n",
    "    def __init__(self , input_size , hidden_size , output_size):\n",
    "        super(Classifier ,self).__init__()\n",
    "        \n",
    "        self.fc_input_size = input_size\n",
    "        self.fc_hidden_size = hidden_size\n",
    "        self.fc_output_size = output_size\n",
    "        \n",
    "        \n",
    "        # Inputs to hidden layer linear transformation\n",
    "        self.fc1 = nn.Linear(in_features = input_size , out_features = hidden_size)\n",
    "        self.fc2 = nn.Linear(in_features = input_size , out_features = hidden_size)\n",
    "        self.dropout = nn.Dropout(p = 0.33)\n",
    "        \n",
    "        # Output layer, 10 units - one for each digit\n",
    "        self.out = nn.Linear(in_features = hidden_size , out_features = output_size)\n",
    "        \n",
    "        \n",
    "    def forward(self,x):\n",
    "        \n",
    "        #Pass output of BERT through Fully connected layer\n",
    "        x = self.fc1(x)\n",
    "        x = torch.relu(x)\n",
    "        \n",
    "        x = self.dropout(x)\n",
    "\n",
    "        x = self.fc2(x)\n",
    "        x = torch.relu(x)\n",
    "        \n",
    "        #Output layer\n",
    "        x = self.out(x)\n",
    "        \n",
    "        return x\n",
    "    \n",
    "clf = Classifier(input_size = input_size \n",
    "                            , hidden_size = hidden_size \n",
    "                            , output_size = output_size )\n",
    "\n",
    "clf.double()"
   ]
  },
  {
   "cell_type": "code",
   "execution_count": 333,
   "metadata": {},
   "outputs": [
    {
     "name": "stdout",
     "output_type": "stream",
     "text": [
      "epoch : 0 \t batch number : 0 \t train loss : 1.146126555608035\n",
      "epoch : 0 \t batch number : 100 \t train loss : 0.9810622761291732\n",
      "epoch : 0 \t batch number : 200 \t train loss : 0.9487398255778976\n",
      "epoch : 0 \t batch number : 300 \t train loss : 0.9343777449446339\n",
      "epoch : 0 \t batch number : 400 \t train loss : 0.9292256048216933\n",
      "epoch : 0\t train_loss :0.9280489735800076\t validation loss : 0.9215683406142151\n",
      "epoch : 0 \t train loss : 0.9286020706390886 \t time required : 13.413722038269043\n",
      "\n",
      "epoch : 1 \t batch number : 0 \t train loss : 0.9972122238223847\n",
      "epoch : 1 \t batch number : 100 \t train loss : 0.9045754783770418\n",
      "epoch : 1 \t batch number : 200 \t train loss : 0.9164042346032544\n",
      "epoch : 1 \t batch number : 300 \t train loss : 0.9134657755029041\n",
      "epoch : 1 \t batch number : 400 \t train loss : 0.9116470178088114\n",
      "patience_ctr : 1\n",
      "\n",
      "epoch : 1\t train_loss :0.9116203565962525\t validation loss : 0.9321643238957765\n",
      "epoch : 1 \t train loss : 1.0124712955199446 \t time required : 13.36183214187622\n",
      "\n",
      "epoch : 2 \t batch number : 0 \t train loss : 0.933438501639013\n",
      "epoch : 2 \t batch number : 100 \t train loss : 0.9149325860445761\n",
      "epoch : 2 \t batch number : 200 \t train loss : 0.9149406453366428\n",
      "epoch : 2 \t batch number : 300 \t train loss : 0.9178035667243891\n",
      "epoch : 2 \t batch number : 400 \t train loss : 0.9166567327670518\n",
      "patience_ctr : 2\n",
      "\n",
      "early stoppping since valid_loss > train_loss\n"
     ]
    }
   ],
   "source": [
    "epochs = 10\n",
    "loss_fn = F.cross_entropy\n",
    "\n",
    "learning_rate = 0.0005\n",
    "\n",
    "optimizer = torch.optim.Adam(clf.parameters(), lr = learning_rate)\n",
    "print_every = 100\n",
    "clf.to(device)\n",
    "\n",
    "\n",
    "# to track the average training loss per epoch as the model trains\n",
    "avg_train_losses = []\n",
    "# to track the average validation loss per epoch as the model trains\n",
    "avg_valid_losses = [] \n",
    "patience_ctr = 0\n",
    "patience = 2\n",
    "    \n",
    "for epoch in range(0,epochs):\n",
    "    \n",
    "    # to track the training loss as the model trains\n",
    "    train_losses = []\n",
    "    # to track the validation loss as the model trains\n",
    "    valid_losses = []\n",
    "\n",
    "    batch = 0\n",
    "    #loss = 0\n",
    "    start_time = time.time()\n",
    "    clf.train()\n",
    "    for i in train_dataset:\n",
    "        x, y = next(iter(train_dataset))\n",
    "        x = x.to(device)\n",
    "        y = y.long().to(device)\n",
    "        \n",
    "        optimizer.zero_grad() #remove previous gradients\n",
    "        y_pred = clf(x)\n",
    "        \n",
    "        #y_pred = y_pred.unsqueeze(0)\n",
    "        loss = loss_fn(y_pred , y)\n",
    "\n",
    "        loss.backward() #backproppogte loss\n",
    "        optimizer.step()\n",
    "        \n",
    "        train_losses.append(loss.item())\n",
    "        \n",
    "        if (batch % print_every == 0):\n",
    "            print('epoch : {} \\t batch number : {} \\t train loss : {}'.format(epoch, batch,np.average(train_losses)))\n",
    "            \n",
    "        batch +=1\n",
    "\n",
    "        #Calculate Validation loss\n",
    "    val_acc = 0\n",
    "    clf = clf.eval() #set Network to evaluate\n",
    "    for j in val_dataset :\n",
    "        x_v, y_v = next(iter(val_dataset))\n",
    "        x_v = x_v.to(device)\n",
    "        y_v = y_v.long().to(device)\n",
    "        \n",
    "        y_pred = clf(x_v)\n",
    "        loss = loss_fn(y_pred , y_v)\n",
    "        \n",
    "        valid_losses.append(loss.item())\n",
    "    \n",
    "    # calculate average loss over an epoch\n",
    "    train_loss = np.average(train_losses)\n",
    "    valid_loss = np.average(valid_losses)\n",
    "    avg_train_losses.append(train_loss)\n",
    "    avg_valid_losses.append(valid_loss)\n",
    "\n",
    "    #Early stopping\n",
    "    if valid_loss > train_loss:\n",
    "        patience_ctr +=1\n",
    "        print('patience_ctr : {}\\n'.format(patience_ctr))\n",
    "        if patience_ctr >= patience:\n",
    "            print('early stoppping since valid_loss > train_loss')\n",
    "            break\n",
    "    else :\n",
    "        patience_ctr = 0\n",
    "    \n",
    "    epoch_len = len(str(epochs))\n",
    "    print('epoch : {}\\t train_loss :{}\\t validation loss : {}'.format(epoch , train_loss , valid_loss))\n",
    "    \n",
    "            \n",
    "    print('epoch : {} \\t train loss : {} \\t time required : {}\\n'.format(epoch, loss.item(),(time.time() - start_time)))"
   ]
  },
  {
   "cell_type": "code",
   "execution_count": 334,
   "metadata": {},
   "outputs": [
    {
     "name": "stdout",
     "output_type": "stream",
     "text": [
      "10\n",
      "20\n",
      "30\n"
     ]
    },
    {
     "name": "stderr",
     "output_type": "stream",
     "text": [
      "c:\\python\\python37\\lib\\site-packages\\ipykernel_launcher.py:13: UserWarning: Implicit dimension choice for softmax has been deprecated. Change the call to include dim=X as an argument.\n",
      "  del sys.path[0]\n"
     ]
    },
    {
     "name": "stdout",
     "output_type": "stream",
     "text": [
      "40\n",
      "time taken for prediction :0.22608494758605957 seconds\n"
     ]
    }
   ],
   "source": [
    "#Predict on Evaluation set\n",
    "st_time = time.time()\n",
    "ctr = 0\n",
    "print_every = 10\n",
    "clf = clf.double()\n",
    "clf = clf.to(device)\n",
    "clf = clf.eval()\n",
    "for j in val_dataset :\n",
    "    x_v, y_v = next(iter(val_dataset))\n",
    "    x_v = x_v.to(device)\n",
    "    #y_v = y_v.to(device)\n",
    "   \n",
    "    op = clf(x_v)\n",
    "    op = torch.argmax(F.softmax(op), dim = 1)\n",
    "    if ctr == 0:\n",
    "        y_pred = op\n",
    "        y_actual = y_v\n",
    "    else:\n",
    "        y_pred = torch.cat((y_pred , op))\n",
    "        y_actual = torch.cat((y_actual , y_v))\n",
    "   \n",
    "    ctr += 1\n",
    "   \n",
    "    if ctr % print_every == 0:\n",
    "        print(ctr)\n",
    "print('time taken for prediction :{} seconds'.format(time.time() - st_time ))"
   ]
  },
  {
   "cell_type": "code",
   "execution_count": 335,
   "metadata": {},
   "outputs": [
    {
     "name": "stdout",
     "output_type": "stream",
     "text": [
      "              precision    recall  f1-score   support\n",
      "\n",
      "           0       0.62      0.99      0.77       916\n",
      "           1       0.00      0.00      0.00       312\n",
      "           2       0.00      0.00      0.00       236\n",
      "\n",
      "    accuracy                           0.62      1464\n",
      "   macro avg       0.21      0.33      0.26      1464\n",
      "weighted avg       0.39      0.62      0.48      1464\n",
      "\n",
      "accuracy : 0.6215846994535519\n"
     ]
    },
    {
     "data": {
      "image/png": "[encoded data removed]",
      "text/plain": [
       "<Figure size 432x288 with 2 Axes>"
      ]
     },
     "metadata": {
      "needs_background": "light"
     },
     "output_type": "display_data"
    }
   ],
   "source": [
    "#Display classification metrics\n",
    "y_actual = y_val.values\n",
    "y_pred = y_pred[:y_actual.shape[0]].cpu().detach().numpy()\n",
    "my_classification_report(y_actual = y_actual , y_predicted = y_pred)"
   ]
  },
  {
   "cell_type": "code",
   "execution_count": null,
   "metadata": {},
   "outputs": [],
   "source": []
  }
 ],
 "metadata": {
  "kernelspec": {
   "display_name": "Python 3",
   "language": "python",
   "name": "python3"
  },
  "language_info": {
   "codemirror_mode": {
    "name": "ipython",
    "version": 3
   },
   "file_extension": ".py",
   "mimetype": "text/x-python",
   "name": "python",
   "nbconvert_exporter": "python",
   "pygments_lexer": "ipython3",
   "version": "3.7.3"
  }
 },
 "nbformat": 4,
 "nbformat_minor": 2
}
