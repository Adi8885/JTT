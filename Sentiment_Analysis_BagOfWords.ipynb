{
 "cells": [
  {
   "cell_type": "code",
   "execution_count": 1,
   "metadata": {},
   "outputs": [
    {
     "name": "stderr",
     "output_type": "stream",
     "text": [
      "c:\\python\\python37\\lib\\site-packages\\sklearn\\externals\\joblib\\__init__.py:15: DeprecationWarning: sklearn.externals.joblib is deprecated in 0.21 and will be removed in 0.23. Please import this functionality directly from joblib, which can be installed with: pip install joblib. If this warning is raised when loading pickled models, you may need to re-serialize those models with scikit-learn 0.21+.\n",
      "  warnings.warn(msg, category=DeprecationWarning)\n"
     ]
    }
   ],
   "source": [
    "import time\n",
    "import os\n",
    "import sys\n",
    "import pickle\n",
    "import linecache\n",
    "import pprint\n",
    "\n",
    "import math\n",
    "\n",
    "import re\n",
    "\n",
    "import pandas as pd\n",
    "import numpy as np\n",
    "import matplotlib.pyplot as plt\n",
    "import seaborn as sns\n",
    "\n",
    "import nltk\n",
    "from nltk.corpus import stopwords\n",
    "stop = stopwords.words('english')\n",
    "\n",
    "from nltk.tokenize import word_tokenize\n",
    "from gensim.models.doc2vec import Doc2Vec, TaggedDocument\n",
    "\n",
    "from sklearn.feature_extraction.text import TfidfVectorizer\n",
    "from sklearn.preprocessing import LabelEncoder\n",
    "from sklearn.model_selection import train_test_split\n",
    "from sklearn.utils import shuffle\n",
    "from sklearn.metrics import classification_report , accuracy_score , confusion_matrix , precision_score , f1_score\n",
    "\n",
    "import xgboost as xgb\n",
    "\n",
    "from skopt.space import Real, Categorical, Integer\n",
    "from skopt import forest_minimize, gbrt_minimize, gp_minimize\n",
    "from skopt.callbacks import DeltaYStopper\n",
    "from skopt.utils import use_named_args\n",
    "\n",
    "%matplotlib inline"
   ]
  },
  {
   "cell_type": "markdown",
   "metadata": {},
   "source": [
    "# Approach\n",
    "### This solution uses a simple bag of words + xgboost for sentiment analysis\n",
    "#### 1. Define Functions\n",
    "#### 2. EDA\n",
    "#### 3. Text Cleaning\n",
    "#### 4. Hyper ParameterTuning\n",
    "#### 5.Final Result\n"
   ]
  },
  {
   "cell_type": "code",
   "execution_count": 2,
   "metadata": {},
   "outputs": [],
   "source": [
    "def PrintException():\n",
    "    \"\"\"\n",
    "    Description : \n",
    "    - This function throws error without breaking the code. \n",
    "    - To be used for displaing errors in try-except blocks\n",
    "    - Doesnot take any argument nor return anything\n",
    "    \"\"\"\n",
    "    exc_type, exc_obj, tb = sys.exc_info()\n",
    "    f = tb.tb_frame\n",
    "    lineno = tb.tb_lineno\n",
    "    filename = f.f_code.co_filename\n",
    "    linecache.checkcache(filename)\n",
    "    line = linecache.getline(filename, lineno, f.f_globals)\n",
    "    print ('EXCEPTION IN ({}, LINE {} \"{}\"): {}'.format(filename, lineno, line.strip(), exc_obj))\n",
    "    return"
   ]
  },
  {
   "cell_type": "code",
   "execution_count": null,
   "metadata": {},
   "outputs": [],
   "source": [
    "def my_classification_report(y_actual , y_predicted):\n",
    "    \"\"\"\n",
    "    Description : \n",
    "    - This function takes precdicted and actual values and gives key classification metrics\n",
    "    \n",
    "    Inputs:\n",
    "    1. y_actual : Array of actual labels\n",
    "    2. y_pred :  Array of predicted labels\n",
    "    \n",
    "    Outputs:\n",
    "    1. Prescision , ecall, F1-Score and Accuracy metrics\n",
    "    2. Plot of confusion matrix\n",
    "    \"\"\"\n",
    "    \n",
    "    print(classification_report(y_actual, y_pred))\n",
    "    acc = accuracy_score(y_actual , y_predicted)\n",
    "    print('accuracy : {}'.format(acc))\n",
    "   \n",
    "    conf_mat=confusion_matrix(y_actual, y_pred)\n",
    "    #print(conf_mat)\n",
    "    #plt.figure(figsize=(20,20))\n",
    "    ax = plt.subplot()\n",
    "    sns.heatmap(conf_mat, annot=True, ax = ax); #annot=True to annotate cells\n",
    "\n",
    "    # labels, title and ticks\n",
    "    ax.set_xlabel('Predicted labels')\n",
    "    ax.set_ylabel('True labels')\n",
    "    ax.set_title('Confusion Matrix')\n",
    "    ax.xaxis.set_ticklabels(le.classes_)\n",
    "    ax.yaxis.set_ticklabels(le.classes_)\n",
    "    plt.xticks(rotation=90)\n",
    "    plt.yticks(rotation=0)\n",
    "    #plt.savefig('conf_matrix.png')\n",
    "    plt.show()"
   ]
  },
  {
   "cell_type": "code",
   "execution_count": 3,
   "metadata": {},
   "outputs": [
    {
     "data": {
      "text/html": [
       "<div>\n",
       "<style scoped>\n",
       "    .dataframe tbody tr th:only-of-type {\n",
       "        vertical-align: middle;\n",
       "    }\n",
       "\n",
       "    .dataframe tbody tr th {\n",
       "        vertical-align: top;\n",
       "    }\n",
       "\n",
       "    .dataframe thead th {\n",
       "        text-align: right;\n",
       "    }\n",
       "</style>\n",
       "<table border=\"1\" class=\"dataframe\">\n",
       "  <thead>\n",
       "    <tr style=\"text-align: right;\">\n",
       "      <th></th>\n",
       "      <th>airline_sentiment</th>\n",
       "      <th>airline</th>\n",
       "      <th>text</th>\n",
       "    </tr>\n",
       "  </thead>\n",
       "  <tbody>\n",
       "    <tr>\n",
       "      <th>0</th>\n",
       "      <td>neutral</td>\n",
       "      <td>Virgin America</td>\n",
       "      <td>@VirginAmerica What @dhepburn said.</td>\n",
       "    </tr>\n",
       "    <tr>\n",
       "      <th>1</th>\n",
       "      <td>positive</td>\n",
       "      <td>Virgin America</td>\n",
       "      <td>@VirginAmerica plus you've added commercials t...</td>\n",
       "    </tr>\n",
       "    <tr>\n",
       "      <th>2</th>\n",
       "      <td>neutral</td>\n",
       "      <td>Virgin America</td>\n",
       "      <td>@VirginAmerica I didn't today... Must mean I n...</td>\n",
       "    </tr>\n",
       "    <tr>\n",
       "      <th>3</th>\n",
       "      <td>negative</td>\n",
       "      <td>Virgin America</td>\n",
       "      <td>@VirginAmerica it's really aggressive to blast...</td>\n",
       "    </tr>\n",
       "    <tr>\n",
       "      <th>4</th>\n",
       "      <td>negative</td>\n",
       "      <td>Virgin America</td>\n",
       "      <td>@VirginAmerica and it's a really big bad thing...</td>\n",
       "    </tr>\n",
       "  </tbody>\n",
       "</table>\n",
       "</div>"
      ],
      "text/plain": [
       "  airline_sentiment         airline  \\\n",
       "0           neutral  Virgin America   \n",
       "1          positive  Virgin America   \n",
       "2           neutral  Virgin America   \n",
       "3          negative  Virgin America   \n",
       "4          negative  Virgin America   \n",
       "\n",
       "                                                text  \n",
       "0                @VirginAmerica What @dhepburn said.  \n",
       "1  @VirginAmerica plus you've added commercials t...  \n",
       "2  @VirginAmerica I didn't today... Must mean I n...  \n",
       "3  @VirginAmerica it's really aggressive to blast...  \n",
       "4  @VirginAmerica and it's a really big bad thing...  "
      ]
     },
     "execution_count": 3,
     "metadata": {},
     "output_type": "execute_result"
    }
   ],
   "source": [
    "data = pd.read_csv('./sentiment_analysis.csv'\n",
    "                   , low_memory = False\n",
    "                   )\n",
    "data.head()"
   ]
  },
  {
   "cell_type": "code",
   "execution_count": 4,
   "metadata": {},
   "outputs": [
    {
     "data": {
      "text/plain": [
       "array(['Virgin America', 'United', 'Southwest', 'Delta', 'US Airways',\n",
       "       'American'], dtype=object)"
      ]
     },
     "execution_count": 4,
     "metadata": {},
     "output_type": "execute_result"
    }
   ],
   "source": [
    "data.airline.unique()"
   ]
  },
  {
   "cell_type": "code",
   "execution_count": 5,
   "metadata": {},
   "outputs": [
    {
     "data": {
      "text/plain": [
       "array(['neutral', 'positive', 'negative'], dtype=object)"
      ]
     },
     "execution_count": 5,
     "metadata": {},
     "output_type": "execute_result"
    }
   ],
   "source": [
    "data.airline_sentiment.unique()"
   ]
  },
  {
   "cell_type": "code",
   "execution_count": 6,
   "metadata": {},
   "outputs": [
    {
     "data": {
      "text/plain": [
       "<matplotlib.axes._subplots.AxesSubplot at 0x23d20a6e6d8>"
      ]
     },
     "execution_count": 6,
     "metadata": {},
     "output_type": "execute_result"
    },
    {
     "data": {
      "image/png": "[encoded data removed]",
      "text/plain": [
       "<Figure size 432x288 with 1 Axes>"
      ]
     },
     "metadata": {
      "needs_background": "light"
     },
     "output_type": "display_data"
    }
   ],
   "source": [
    "data.groupby('airline_sentiment')['text'].count().plot('bar')"
   ]
  },
  {
   "cell_type": "code",
   "execution_count": 7,
   "metadata": {},
   "outputs": [
    {
     "data": {
      "text/plain": [
       "<matplotlib.axes._subplots.AxesSubplot at 0x23d22b34748>"
      ]
     },
     "execution_count": 7,
     "metadata": {},
     "output_type": "execute_result"
    },
    {
     "data": {
      "image/png": "[encoded data removed]",
      "text/plain": [
       "<Figure size 432x288 with 1 Axes>"
      ]
     },
     "metadata": {
      "needs_background": "light"
     },
     "output_type": "display_data"
    }
   ],
   "source": [
    "data.groupby(['airline','airline_sentiment'])['text'].count().plot('bar')\n",
    "#ax = sns.barplot(x='airline', y=\"text\", hue=\"airline_sentiment\", data=data)"
   ]
  },
  {
   "cell_type": "code",
   "execution_count": 8,
   "metadata": {},
   "outputs": [
    {
     "data": {
      "text/html": [
       "<div>\n",
       "<style scoped>\n",
       "    .dataframe tbody tr th:only-of-type {\n",
       "        vertical-align: middle;\n",
       "    }\n",
       "\n",
       "    .dataframe tbody tr th {\n",
       "        vertical-align: top;\n",
       "    }\n",
       "\n",
       "    .dataframe thead th {\n",
       "        text-align: right;\n",
       "    }\n",
       "</style>\n",
       "<table border=\"1\" class=\"dataframe\">\n",
       "  <thead>\n",
       "    <tr style=\"text-align: right;\">\n",
       "      <th></th>\n",
       "      <th>airline_sentiment</th>\n",
       "      <th>text</th>\n",
       "    </tr>\n",
       "  </thead>\n",
       "  <tbody>\n",
       "    <tr>\n",
       "      <th>0</th>\n",
       "      <td>neutral</td>\n",
       "      <td>@VirginAmerica What @dhepburn said.</td>\n",
       "    </tr>\n",
       "    <tr>\n",
       "      <th>1</th>\n",
       "      <td>positive</td>\n",
       "      <td>@VirginAmerica plus you've added commercials t...</td>\n",
       "    </tr>\n",
       "    <tr>\n",
       "      <th>2</th>\n",
       "      <td>neutral</td>\n",
       "      <td>@VirginAmerica I didn't today... Must mean I n...</td>\n",
       "    </tr>\n",
       "    <tr>\n",
       "      <th>3</th>\n",
       "      <td>negative</td>\n",
       "      <td>@VirginAmerica it's really aggressive to blast...</td>\n",
       "    </tr>\n",
       "    <tr>\n",
       "      <th>4</th>\n",
       "      <td>negative</td>\n",
       "      <td>@VirginAmerica and it's a really big bad thing...</td>\n",
       "    </tr>\n",
       "  </tbody>\n",
       "</table>\n",
       "</div>"
      ],
      "text/plain": [
       "  airline_sentiment                                               text\n",
       "0           neutral                @VirginAmerica What @dhepburn said.\n",
       "1          positive  @VirginAmerica plus you've added commercials t...\n",
       "2           neutral  @VirginAmerica I didn't today... Must mean I n...\n",
       "3          negative  @VirginAmerica it's really aggressive to blast...\n",
       "4          negative  @VirginAmerica and it's a really big bad thing..."
      ]
     },
     "execution_count": 8,
     "metadata": {},
     "output_type": "execute_result"
    }
   ],
   "source": [
    "data = data[['airline_sentiment','text']]\n",
    "data.head()"
   ]
  },
  {
   "cell_type": "code",
   "execution_count": 9,
   "metadata": {},
   "outputs": [
    {
     "data": {
      "text/html": [
       "<div>\n",
       "<style scoped>\n",
       "    .dataframe tbody tr th:only-of-type {\n",
       "        vertical-align: middle;\n",
       "    }\n",
       "\n",
       "    .dataframe tbody tr th {\n",
       "        vertical-align: top;\n",
       "    }\n",
       "\n",
       "    .dataframe thead th {\n",
       "        text-align: right;\n",
       "    }\n",
       "</style>\n",
       "<table border=\"1\" class=\"dataframe\">\n",
       "  <thead>\n",
       "    <tr style=\"text-align: right;\">\n",
       "      <th></th>\n",
       "      <th>airline_sentiment</th>\n",
       "      <th>text</th>\n",
       "      <th>cleaned_text</th>\n",
       "    </tr>\n",
       "  </thead>\n",
       "  <tbody>\n",
       "    <tr>\n",
       "      <th>0</th>\n",
       "      <td>neutral</td>\n",
       "      <td>@VirginAmerica What @dhepburn said.</td>\n",
       "      <td>said</td>\n",
       "    </tr>\n",
       "    <tr>\n",
       "      <th>1</th>\n",
       "      <td>positive</td>\n",
       "      <td>@VirginAmerica plus you've added commercials t...</td>\n",
       "      <td>plus youve added commercials experience tacky</td>\n",
       "    </tr>\n",
       "    <tr>\n",
       "      <th>2</th>\n",
       "      <td>neutral</td>\n",
       "      <td>@VirginAmerica I didn't today... Must mean I n...</td>\n",
       "      <td>didnt today must mean need take another trip</td>\n",
       "    </tr>\n",
       "    <tr>\n",
       "      <th>3</th>\n",
       "      <td>negative</td>\n",
       "      <td>@VirginAmerica it's really aggressive to blast...</td>\n",
       "      <td>really aggressive blast obnoxious entertainmen...</td>\n",
       "    </tr>\n",
       "    <tr>\n",
       "      <th>4</th>\n",
       "      <td>negative</td>\n",
       "      <td>@VirginAmerica and it's a really big bad thing...</td>\n",
       "      <td>really big bad thing</td>\n",
       "    </tr>\n",
       "  </tbody>\n",
       "</table>\n",
       "</div>"
      ],
      "text/plain": [
       "  airline_sentiment                                               text  \\\n",
       "0           neutral                @VirginAmerica What @dhepburn said.   \n",
       "1          positive  @VirginAmerica plus you've added commercials t...   \n",
       "2           neutral  @VirginAmerica I didn't today... Must mean I n...   \n",
       "3          negative  @VirginAmerica it's really aggressive to blast...   \n",
       "4          negative  @VirginAmerica and it's a really big bad thing...   \n",
       "\n",
       "                                        cleaned_text  \n",
       "0                                               said  \n",
       "1      plus youve added commercials experience tacky  \n",
       "2       didnt today must mean need take another trip  \n",
       "3  really aggressive blast obnoxious entertainmen...  \n",
       "4                               really big bad thing  "
      ]
     },
     "execution_count": 9,
     "metadata": {},
     "output_type": "execute_result"
    }
   ],
   "source": [
    "#TEXT CLEANING\n",
    "\n",
    "#Remove words starting with @ as they aree just references\n",
    "data['cleaned_text'] = data['text'].apply(lambda x: ' '.join(word for word in x.split(' ') if not word.startswith('@')))\n",
    "\n",
    "#Remove .\n",
    "data['cleaned_text'] = data['cleaned_text'].str.lower().replace('.','')\n",
    "\n",
    "#Remove Special Characters\n",
    "data['cleaned_text'] = data['cleaned_text'].str.replace('[^\\w\\s]','')\n",
    "\n",
    "#Stopword Removal\n",
    "data['cleaned_text'] = data['cleaned_text'].apply(lambda x: \" \".join(x for x in x.split() if x not in stop))\n",
    "\n",
    "#Visualize cleaned data\n",
    "data.head()"
   ]
  },
  {
   "cell_type": "code",
   "execution_count": 10,
   "metadata": {},
   "outputs": [
    {
     "data": {
      "text/html": [
       "<div>\n",
       "<style scoped>\n",
       "    .dataframe tbody tr th:only-of-type {\n",
       "        vertical-align: middle;\n",
       "    }\n",
       "\n",
       "    .dataframe tbody tr th {\n",
       "        vertical-align: top;\n",
       "    }\n",
       "\n",
       "    .dataframe thead th {\n",
       "        text-align: right;\n",
       "    }\n",
       "</style>\n",
       "<table border=\"1\" class=\"dataframe\">\n",
       "  <thead>\n",
       "    <tr style=\"text-align: right;\">\n",
       "      <th></th>\n",
       "      <th>airline_sentiment</th>\n",
       "      <th>text</th>\n",
       "      <th>cleaned_text</th>\n",
       "      <th>airline_sentiment_encoded</th>\n",
       "    </tr>\n",
       "  </thead>\n",
       "  <tbody>\n",
       "    <tr>\n",
       "      <th>0</th>\n",
       "      <td>neutral</td>\n",
       "      <td>@VirginAmerica What @dhepburn said.</td>\n",
       "      <td>said</td>\n",
       "      <td>1</td>\n",
       "    </tr>\n",
       "    <tr>\n",
       "      <th>1</th>\n",
       "      <td>positive</td>\n",
       "      <td>@VirginAmerica plus you've added commercials t...</td>\n",
       "      <td>plus youve added commercials experience tacky</td>\n",
       "      <td>2</td>\n",
       "    </tr>\n",
       "    <tr>\n",
       "      <th>2</th>\n",
       "      <td>neutral</td>\n",
       "      <td>@VirginAmerica I didn't today... Must mean I n...</td>\n",
       "      <td>didnt today must mean need take another trip</td>\n",
       "      <td>1</td>\n",
       "    </tr>\n",
       "    <tr>\n",
       "      <th>3</th>\n",
       "      <td>negative</td>\n",
       "      <td>@VirginAmerica it's really aggressive to blast...</td>\n",
       "      <td>really aggressive blast obnoxious entertainmen...</td>\n",
       "      <td>0</td>\n",
       "    </tr>\n",
       "    <tr>\n",
       "      <th>4</th>\n",
       "      <td>negative</td>\n",
       "      <td>@VirginAmerica and it's a really big bad thing...</td>\n",
       "      <td>really big bad thing</td>\n",
       "      <td>0</td>\n",
       "    </tr>\n",
       "  </tbody>\n",
       "</table>\n",
       "</div>"
      ],
      "text/plain": [
       "  airline_sentiment                                               text  \\\n",
       "0           neutral                @VirginAmerica What @dhepburn said.   \n",
       "1          positive  @VirginAmerica plus you've added commercials t...   \n",
       "2           neutral  @VirginAmerica I didn't today... Must mean I n...   \n",
       "3          negative  @VirginAmerica it's really aggressive to blast...   \n",
       "4          negative  @VirginAmerica and it's a really big bad thing...   \n",
       "\n",
       "                                        cleaned_text  \\\n",
       "0                                               said   \n",
       "1      plus youve added commercials experience tacky   \n",
       "2       didnt today must mean need take another trip   \n",
       "3  really aggressive blast obnoxious entertainmen...   \n",
       "4                               really big bad thing   \n",
       "\n",
       "   airline_sentiment_encoded  \n",
       "0                          1  \n",
       "1                          2  \n",
       "2                          1  \n",
       "3                          0  \n",
       "4                          0  "
      ]
     },
     "execution_count": 10,
     "metadata": {},
     "output_type": "execute_result"
    }
   ],
   "source": [
    "#Encode labels\n",
    "le = LabelEncoder()\n",
    "data['airline_sentiment_encoded'] = le.fit_transform( data['airline_sentiment'])\n",
    "data.head()"
   ]
  },
  {
   "cell_type": "code",
   "execution_count": 12,
   "metadata": {},
   "outputs": [],
   "source": [
    "#HYPER PARAMETER OPTIMIZATION\n",
    "\n",
    "#Define search space\n",
    "skopt_grid_w = [Categorical(categories = [500,1000,2000,3000] , name='max_features')\n",
    "                , Integer(low = 1, high = 3, name='n_grams')\n",
    "                , Integer(low = 1, high = 10, name='max_depth')\n",
    "                , Real(low = 0.001, high = 0.1, name='learning_rate')\n",
    "                , Integer(low = 20, high = 300, name='n_estimators')\n",
    "               ]\n",
    "\n",
    "@use_named_args(skopt_grid_w)\n",
    "\n",
    "def objective_function_w(**params):    \n",
    "    \n",
    "    \"\"\"Description : This is objective function as skopt package is expecting\"\"\"\n",
    "    \n",
    "    try: \n",
    "        #Displa the current hyperparameters\n",
    "        hyperparameters = (params['max_features']\n",
    "                           , params['n_grams']\n",
    "                           , params['max_depth']\n",
    "                           , params['learning_rate']\n",
    "                           , params['n_estimators']\n",
    "                          )\n",
    "        print('hyperparameters:', hyperparameters)\n",
    "\n",
    "        try:\n",
    "            #TFIDF Vectorization\n",
    "            tfidf = TfidfVectorizer(max_features=params['max_features']\n",
    "                        , lowercase=True\n",
    "                        , analyzer='word'\n",
    "                        , stop_words= 'english'\n",
    "                        , ngram_range=(params['n_grams'],params['n_grams']))\n",
    "\n",
    "            tfidf_matrix = tfidf.fit_transform(data['cleaned_text'])\n",
    "            \n",
    "            #Split data into train and validation sets\n",
    "            Y = data['airline_sentiment_encoded']\n",
    "            X = tfidf_matrix\n",
    "            \n",
    "            x_train, x_val, y_train, y_val = train_test_split(X, Y, test_size=0.2, random_state=7)\n",
    "            \n",
    "            #Define classifier here\n",
    "            gbm = xgb.XGBClassifier(max_depth=params['max_depth']\n",
    "                                    , learning_rate=params['learning_rate']\n",
    "                                    ,n_estimators=params['n_estimators']\n",
    "                                    )\n",
    "            \n",
    "            fitted_model = gbm.fit(x_train, y_train)\n",
    "            y_pred = gbm.predict(x_val)\n",
    "            \n",
    "            #Choice of metric for tuning\n",
    "            #metric = accuracy_score(y_val, y_pred, normalize=True)\n",
    "            metric = f1_score(y_val ,y_pred , average = 'weighted')\n",
    "            #metric = recall_score(y_val, y_pred , average = 'weighted')\n",
    "            #metric = precision_score(y_val, y_pred , average = 'weighted')\n",
    "            \n",
    "            if math.isnan(metric):\n",
    "                pass\n",
    "            else:\n",
    "                output_value = -metric\n",
    "                \n",
    "        except:\n",
    "            PrintException()\n",
    "            output_value = 0\n",
    "        \n",
    "        return output_value\n",
    "    \n",
    "    except:\n",
    "        PrintException()\n",
    "        \n",
    "    return 0"
   ]
  },
  {
   "cell_type": "code",
   "execution_count": 16,
   "metadata": {},
   "outputs": [
    {
     "name": "stdout",
     "output_type": "stream",
     "text": [
      "Iteration No: 1 started. Evaluating function at random point.\n",
      "hyperparameters: (500, 2, 10, 0.04610290641949299, 106)\n",
      "Iteration No: 1 ended. Evaluation done at random point.\n",
      "Time taken: 4.2858\n",
      "Function value obtained: -0.5287\n",
      "Current minimum: -0.5287\n",
      "Iteration No: 2 started. Evaluating function at random point.\n",
      "hyperparameters: (1000, 1, 5, 0.0025751257351664192, 168)\n",
      "Iteration No: 2 ended. Evaluation done at random point.\n",
      "Time taken: 12.5326\n",
      "Function value obtained: -0.6125\n",
      "Current minimum: -0.6125\n",
      "Iteration No: 3 started. Evaluating function at random point.\n",
      "hyperparameters: (3000, 2, 5, 0.06775871187095653, 208)\n",
      "Iteration No: 3 ended. Evaluation done at random point.\n",
      "Time taken: 12.2195\n",
      "Function value obtained: -0.5321\n",
      "Current minimum: -0.6125\n",
      "Iteration No: 4 started. Evaluating function at random point.\n",
      "hyperparameters: (2000, 2, 9, 0.026995793234296316, 230)\n",
      "Iteration No: 4 ended. Evaluation done at random point.\n",
      "Time taken: 16.3956\n",
      "Function value obtained: -0.5240\n",
      "Current minimum: -0.6125\n",
      "Iteration No: 5 started. Evaluating function at random point.\n",
      "hyperparameters: (1000, 3, 3, 0.0792855876460948, 283)\n",
      "Iteration No: 5 ended. Evaluation done at random point.\n",
      "Time taken: 3.6490\n",
      "Function value obtained: -0.5057\n",
      "Current minimum: -0.6125\n",
      "Iteration No: 6 started. Evaluating function at random point.\n",
      "hyperparameters: (1000, 2, 4, 0.02014220671584855, 48)\n",
      "Iteration No: 6 ended. Evaluation done at random point.\n",
      "Time taken: 1.3176\n",
      "Function value obtained: -0.5042\n",
      "Current minimum: -0.6125\n",
      "Iteration No: 7 started. Evaluating function at random point.\n",
      "hyperparameters: (1000, 2, 10, 0.03552688118981681, 97)\n",
      "Iteration No: 7 ended. Evaluation done at random point.\n",
      "Time taken: 4.5272\n",
      "Function value obtained: -0.5201\n",
      "Current minimum: -0.6125\n",
      "Iteration No: 8 started. Evaluating function at random point.\n",
      "hyperparameters: (1000, 3, 3, 0.015128858926362218, 43)\n"
     ]
    },
    {
     "name": "stderr",
     "output_type": "stream",
     "text": [
      "c:\\python\\python37\\lib\\site-packages\\sklearn\\metrics\\classification.py:1437: UndefinedMetricWarning: F-score is ill-defined and being set to 0.0 in labels with no predicted samples.\n",
      "  'precision', 'predicted', average, warn_for)\n"
     ]
    },
    {
     "name": "stdout",
     "output_type": "stream",
     "text": [
      "Iteration No: 8 ended. Evaluation done at random point.\n",
      "Time taken: 0.9283\n",
      "Function value obtained: -0.4892\n",
      "Current minimum: -0.6125\n",
      "Iteration No: 9 started. Evaluating function at random point.\n",
      "hyperparameters: (2000, 2, 4, 0.09217836047299362, 141)\n",
      "Iteration No: 9 ended. Evaluation done at random point.\n",
      "Time taken: 5.8159\n",
      "Function value obtained: -0.5238\n",
      "Current minimum: -0.6125\n",
      "Iteration No: 10 started. Evaluating function at random point.\n",
      "hyperparameters: (1000, 3, 8, 0.03498720505364812, 104)\n",
      "Iteration No: 10 ended. Evaluation done at random point.\n",
      "Time taken: 4.2970\n",
      "Function value obtained: -0.4976\n",
      "Current minimum: -0.6125\n",
      "Iteration No: 11 started. Searching for the next optimal point.\n",
      "hyperparameters: (500, 1, 10, 0.1, 300)\n",
      "Iteration No: 11 ended. Search finished for the next optimal point.\n",
      "Time taken: 27.3964\n",
      "Function value obtained: -0.7123\n",
      "Current minimum: -0.7123\n",
      "Iteration No: 12 started. Searching for the next optimal point.\n",
      "hyperparameters: (500, 1, 10, 0.1, 20)\n",
      "Iteration No: 12 ended. Search finished for the next optimal point.\n",
      "Time taken: 2.4607\n",
      "Function value obtained: -0.6241\n",
      "Current minimum: -0.7123\n",
      "Iteration No: 13 started. Searching for the next optimal point.\n",
      "hyperparameters: (500, 1, 1, 0.001, 300)\n",
      "Iteration No: 13 ended. Search finished for the next optimal point.\n",
      "Time taken: 4.6798\n",
      "Function value obtained: -0.5449\n",
      "Current minimum: -0.7123\n",
      "Iteration No: 14 started. Searching for the next optimal point.\n",
      "hyperparameters: (1000, 1, 4, 0.1, 240)\n",
      "Iteration No: 14 ended. Search finished for the next optimal point.\n",
      "Time taken: 11.9296\n",
      "Function value obtained: -0.6764\n",
      "Current minimum: -0.7123\n",
      "Iteration No: 15 started. Searching for the next optimal point.\n",
      "hyperparameters: (3000, 1, 10, 0.07460935564056768, 241)\n",
      "Iteration No: 15 ended. Search finished for the next optimal point.\n",
      "Time taken: 41.8196\n",
      "Function value obtained: -0.7064\n",
      "Current minimum: -0.7123\n",
      "Iteration No: 16 started. Searching for the next optimal point.\n",
      "hyperparameters: (500, 1, 10, 0.1, 219)\n",
      "Iteration No: 16 ended. Search finished for the next optimal point.\n",
      "Time taken: 22.1114\n",
      "Function value obtained: -0.7018\n",
      "Current minimum: -0.7123\n",
      "Iteration No: 17 started. Searching for the next optimal point.\n",
      "hyperparameters: (2000, 1, 10, 0.1, 300)\n",
      "Iteration No: 17 ended. Search finished for the next optimal point.\n",
      "Time taken: 48.5896\n",
      "Function value obtained: -0.7194\n",
      "Current minimum: -0.7194\n",
      "Iteration No: 18 started. Searching for the next optimal point.\n",
      "hyperparameters: (1000, 1, 10, 0.06020289820529018, 299)\n",
      "Iteration No: 18 ended. Search finished for the next optimal point.\n",
      "Time taken: 35.2366\n",
      "Function value obtained: -0.7010\n",
      "Current minimum: -0.7194\n",
      "Iteration No: 19 started. Searching for the next optimal point.\n",
      "hyperparameters: (1000, 1, 10, 0.1, 300)\n",
      "Iteration No: 19 ended. Search finished for the next optimal point.\n",
      "Time taken: 42.2100\n",
      "Function value obtained: -0.7200\n",
      "Current minimum: -0.7200\n",
      "Iteration No: 20 started. Searching for the next optimal point.\n",
      "hyperparameters: (3000, 1, 10, 0.0031390674772774373, 25)\n",
      "Iteration No: 20 ended. Search finished for the next optimal point.\n",
      "Time taken: 5.9024\n",
      "Function value obtained: -0.6215\n",
      "Current minimum: -0.7200\n",
      "Iteration No: 21 started. Searching for the next optimal point.\n",
      "hyperparameters: (2000, 1, 1, 0.09501752640988592, 26)\n"
     ]
    },
    {
     "name": "stderr",
     "output_type": "stream",
     "text": [
      "c:\\python\\python37\\lib\\site-packages\\sklearn\\metrics\\classification.py:1437: UndefinedMetricWarning: F-score is ill-defined and being set to 0.0 in labels with no predicted samples.\n",
      "  'precision', 'predicted', average, warn_for)\n"
     ]
    },
    {
     "name": "stdout",
     "output_type": "stream",
     "text": [
      "Iteration No: 21 ended. Search finished for the next optimal point.\n",
      "Time taken: 1.4029\n",
      "Function value obtained: -0.5676\n",
      "Current minimum: -0.7200\n",
      "Iteration No: 22 started. Searching for the next optimal point.\n",
      "hyperparameters: (3000, 1, 10, 0.1, 300)\n",
      "Iteration No: 22 ended. Search finished for the next optimal point.\n",
      "Time taken: 58.5847\n",
      "Function value obtained: -0.7255\n",
      "Current minimum: -0.7255\n",
      "Iteration No: 23 started. Searching for the next optimal point.\n",
      "hyperparameters: (3000, 1, 8, 0.1, 300)\n",
      "Iteration No: 23 ended. Search finished for the next optimal point.\n",
      "Time taken: 48.4373\n",
      "Function value obtained: -0.7226\n",
      "Current minimum: -0.7255\n",
      "Iteration No: 24 started. Searching for the next optimal point.\n",
      "hyperparameters: (2000, 1, 8, 0.09996529974005053, 242)\n",
      "Iteration No: 24 ended. Search finished for the next optimal point.\n",
      "Time taken: 33.0352\n",
      "Function value obtained: -0.7050\n",
      "Current minimum: -0.7255\n",
      "Iteration No: 25 started. Searching for the next optimal point.\n",
      "hyperparameters: (1000, 1, 10, 0.1, 300)\n"
     ]
    },
    {
     "name": "stderr",
     "output_type": "stream",
     "text": [
      "c:\\python\\python37\\lib\\site-packages\\skopt\\optimizer\\optimizer.py:399: UserWarning: The objective has been evaluated at this point before.\n",
      "  warnings.warn(\"The objective has been evaluated \"\n"
     ]
    },
    {
     "name": "stdout",
     "output_type": "stream",
     "text": [
      "Iteration No: 25 ended. Search finished for the next optimal point.\n",
      "Time taken: 38.7285\n",
      "Function value obtained: -0.7200\n",
      "Current minimum: -0.7255\n",
      "Iteration No: 26 started. Searching for the next optimal point.\n",
      "hyperparameters: (3000, 1, 10, 0.008125920038115894, 288)\n",
      "Iteration No: 26 ended. Search finished for the next optimal point.\n",
      "Time taken: 58.4822\n",
      "Function value obtained: -0.6261\n",
      "Current minimum: -0.7255\n",
      "Iteration No: 27 started. Searching for the next optimal point.\n",
      "hyperparameters: (1000, 1, 10, 0.1, 300)\n"
     ]
    },
    {
     "name": "stderr",
     "output_type": "stream",
     "text": [
      "c:\\python\\python37\\lib\\site-packages\\skopt\\optimizer\\optimizer.py:399: UserWarning: The objective has been evaluated at this point before.\n",
      "  warnings.warn(\"The objective has been evaluated \"\n"
     ]
    },
    {
     "name": "stdout",
     "output_type": "stream",
     "text": [
      "Iteration No: 27 ended. Search finished for the next optimal point.\n",
      "Time taken: 38.1130\n",
      "Function value obtained: -0.7200\n",
      "Current minimum: -0.7255\n",
      "Iteration No: 28 started. Searching for the next optimal point.\n",
      "hyperparameters: (500, 3, 8, 0.09831549336723178, 28)\n",
      "Iteration No: 28 ended. Search finished for the next optimal point.\n",
      "Time taken: 1.3205\n",
      "Function value obtained: -0.4976\n",
      "Current minimum: -0.7255\n",
      "Iteration No: 29 started. Searching for the next optimal point.\n",
      "hyperparameters: (3000, 3, 9, 0.0027247889840579485, 299)\n",
      "Iteration No: 29 ended. Search finished for the next optimal point.\n",
      "Time taken: 22.2686\n",
      "Function value obtained: -0.4952\n",
      "Current minimum: -0.7255\n",
      "Iteration No: 30 started. Searching for the next optimal point.\n",
      "hyperparameters: (2000, 1, 10, 0.1, 300)\n"
     ]
    },
    {
     "name": "stderr",
     "output_type": "stream",
     "text": [
      "c:\\python\\python37\\lib\\site-packages\\skopt\\optimizer\\optimizer.py:399: UserWarning: The objective has been evaluated at this point before.\n",
      "  warnings.warn(\"The objective has been evaluated \"\n"
     ]
    },
    {
     "name": "stdout",
     "output_type": "stream",
     "text": [
      "Iteration No: 30 ended. Search finished for the next optimal point.\n",
      "Time taken: 48.9124\n",
      "Function value obtained: -0.7194\n",
      "Current minimum: -0.7255\n",
      "Iteration No: 31 started. Searching for the next optimal point.\n",
      "hyperparameters: (1000, 1, 10, 0.1, 300)\n"
     ]
    },
    {
     "name": "stderr",
     "output_type": "stream",
     "text": [
      "c:\\python\\python37\\lib\\site-packages\\skopt\\optimizer\\optimizer.py:399: UserWarning: The objective has been evaluated at this point before.\n",
      "  warnings.warn(\"The objective has been evaluated \"\n"
     ]
    },
    {
     "name": "stdout",
     "output_type": "stream",
     "text": [
      "Iteration No: 31 ended. Search finished for the next optimal point.\n",
      "Time taken: 38.1790\n",
      "Function value obtained: -0.7200\n",
      "Current minimum: -0.7255\n",
      "Current Params :  [3000, 1, 10, 0.1, 300]\n",
      "Best Params: (3000, 1, 10, 0.1, 300)\n"
     ]
    }
   ],
   "source": [
    "hyperparam_opt_method_w = 'gp'\n",
    "iterations = 31      \n",
    "\n",
    "\n",
    "if hyperparam_opt_method_w == 'gp':\n",
    "    optimization_result = gp_minimize(func = objective_function_w\n",
    "                                      , dimensions = skopt_grid_w\n",
    "                                      , n_calls=iterations\n",
    "                                      , random_state=7\n",
    "                                      , verbose=True)\n",
    "    \n",
    "elif hyperparam_opt_method_w == 'rf':\n",
    "    optimization_result = forest_minimize(func = objective_function_w\n",
    "                                      , dimensions = skopt_grid_w\n",
    "                                      , n_calls=iterations\n",
    "                                      , random_state=7\n",
    "                                      , verbose=True\n",
    "                                      , callback=None\n",
    "                                     )\n",
    "elif hyperparam_opt_method_w == 'gbm':\n",
    "    optimization_result = gbrt_minimize(func = objective_function_w\n",
    "                                      , dimensions = skopt_grid_w\n",
    "                                      , n_calls=iterations\n",
    "                                      , random_state=7\n",
    "                                      , verbose=True\n",
    "                                      , callback=None\n",
    "                                   )\n",
    "\n",
    "print('Current Params : ', optimization_result.x)"
   ]
  },
  {
   "cell_type": "code",
   "execution_count": 18,
   "metadata": {},
   "outputs": [
    {
     "name": "stdout",
     "output_type": "stream",
     "text": [
      "Best Params: (3000, 1, 10, 0.1, 300)\n"
     ]
    }
   ],
   "source": [
    "#Catch best parameters in a tuple\n",
    "best_params = (optimization_result.x[0]\n",
    "               , optimization_result.x[1]\n",
    "               , optimization_result.x[2]\n",
    "               , optimization_result.x[3]\n",
    "               , optimization_result.x[4])\n",
    "\n",
    "print('Best Params:', best_params)"
   ]
  },
  {
   "cell_type": "code",
   "execution_count": 17,
   "metadata": {},
   "outputs": [
    {
     "name": "stdout",
     "output_type": "stream",
     "text": [
      "              precision    recall  f1-score   support\n",
      "\n",
      "           0       0.77      0.92      0.84      1834\n",
      "           1       0.65      0.35      0.45       628\n",
      "           2       0.69      0.60      0.64       466\n",
      "\n",
      "    accuracy                           0.75      2928\n",
      "   macro avg       0.70      0.62      0.64      2928\n",
      "weighted avg       0.73      0.75      0.73      2928\n",
      "\n",
      "accuracy : 0.7472677595628415\n"
     ]
    },
    {
     "data": {
      "image/png": "[encoded data removed]",
      "text/plain": [
       "<Figure size 432x288 with 2 Axes>"
      ]
     },
     "metadata": {
      "needs_background": "light"
     },
     "output_type": "display_data"
    }
   ],
   "source": [
    "#FINAL RESULT\n",
    "\n",
    "#Pick the best parameters\n",
    "tfidf = TfidfVectorizer(max_features=best_params[0]\n",
    "                        , lowercase=True\n",
    "                        , analyzer='word'\n",
    "                        , stop_words= 'english'\n",
    "                        , ngram_range=(best_params[1],best_params[1]))\n",
    "\n",
    "tfidf_matrix = tfidf.fit_transform(data['cleaned_text'])\n",
    "            \n",
    "Y = data['airline_sentiment_encoded']\n",
    "X = tfidf_matrix\n",
    "            \n",
    "x_train, x_val, y_train, y_val = train_test_split(X, Y, test_size=0.2, random_state=7)\n",
    "            \n",
    "gbm = xgb.XGBClassifier(max_depth=int(best_params[2])\n",
    "                        , learning_rate=best_params[3]\n",
    "                        , n_estimators=best_params[4]\n",
    "                       )\n",
    "gbm.fit(x_train , y_train)\n",
    "y_pred = gbm.predict(x_val)\n",
    "my_classification_report(y_actual = y_val , y_predicted = y_pred)"
   ]
  },
  {
   "cell_type": "code",
   "execution_count": null,
   "metadata": {},
   "outputs": [],
   "source": []
  }
 ],
 "metadata": {
  "kernelspec": {
   "display_name": "Python 3",
   "language": "python",
   "name": "python3"
  },
  "language_info": {
   "codemirror_mode": {
    "name": "ipython",
    "version": 3
   },
   "file_extension": ".py",
   "mimetype": "text/x-python",
   "name": "python",
   "nbconvert_exporter": "python",
   "pygments_lexer": "ipython3",
   "version": "3.7.3"
  }
 },
 "nbformat": 4,
 "nbformat_minor": 2
}
